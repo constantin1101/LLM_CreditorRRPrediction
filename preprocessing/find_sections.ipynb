{
 "cells": [
  {
   "cell_type": "code",
   "execution_count": 1,
   "metadata": {},
   "outputs": [],
   "source": [
    "import openai\n",
    "import pandas as pd\n",
    "import statsmodels.api as sm\n",
    "import matplotlib.pyplot as plt\n",
    "# Add a constant to the model (intercept)\n",
    "from sklearn.metrics import r2_score\n",
    "import time\n",
    "import statsmodels.api as sm\n",
    "from statsmodels.stats.outliers_influence import variance_inflation_factor\n",
    "import tiktoken\n",
    "\n",
    "from dotenv import load_dotenv\n",
    "import os\n",
    "\n",
    "load_dotenv()  # Load environment variables from .env file\n",
    "\n",
    "OPENAI_API_KEY = os.getenv('OPENAI_API_KEY')"
   ]
  },
  {
   "cell_type": "code",
   "execution_count": null,
   "metadata": {},
   "outputs": [],
   "source": [
    "'''If executed in Google Colab, uncomment the following lines'''\n",
    "#from google.colab import drive\n",
    "#drive.mount('/content/drive')\n",
    "\n",
    "#import os\n",
    "#os.chdir('/content/drive/MyDrive/LLM_CreditorRRPrediction')"
   ]
  },
  {
   "cell_type": "code",
   "execution_count": null,
   "metadata": {},
   "outputs": [],
   "source": [
    "POST = True\n",
    "\n",
    "if POST:\n",
    "    aggregated = pd.read_csv('../transcripts/post_aggregated_credit_df.csv', delimiter='|')\n",
    "else:\n",
    "    aggregated = pd.read_csv('../transcripts/aggregated_credit_df.csv', delimiter='|')\n",
    "\n",
    "#PART = 'presentation'\n",
    "#PART = 'QnA'\n",
    "PART = 'analysts'"
   ]
  },
  {
   "cell_type": "code",
   "execution_count": null,
   "metadata": {},
   "outputs": [],
   "source": [
    "client = openai.OpenAI(api_key=OPENAI_API_KEY)\n",
    "\n",
    "output = []\n",
    "start = 0\n",
    "\n",
    "# import system_message.txt as a string\n",
    "with open(f'prompts/system_{PART}_section.txt', 'r') as file:\n",
    "    system_message = file.read()\n",
    "\n",
    "\n",
    "print(system_message)"
   ]
  },
  {
   "cell_type": "code",
   "execution_count": null,
   "metadata": {},
   "outputs": [],
   "source": [
    "if PART == 'QnA' or PART == 'analysts':\n",
    "    part = 'QnA'\n",
    "else:\n",
    "    part = PART\n",
    "\n",
    "\n",
    "for idx, row in aggregated.iterrows():\n",
    "    completion = client.chat.completions.create(\n",
    "        model=\"gpt-4o-mini\",\n",
    "        temperature=0,\n",
    "        messages=[\n",
    "            {\"role\": \"system\", \"content\": system_message},\n",
    "            {\"role\": \"user\", \"content\": row[part]}\n",
    "        ]\n",
    "    )\n",
    "    # Instantly add the output as a new column entry for the corresponding row\n",
    "    response = completion.choices[0].message.content\n",
    "\n",
    "    print(f\"Completed for row {idx}\")\n",
    "    \n",
    "    # compute token count for the response\n",
    "    # Initialize the OpenAI tokenizer\n",
    "    encoding = tiktoken.encoding_for_model(\"gpt-4o-mini\")\n",
    "\n",
    "    # Function to calculate the number of tokens in a transcript using OpenAI's tokenizer\n",
    "    def count_tokens(transcript):\n",
    "        tokens = encoding.encode(transcript)\n",
    "        return len(tokens)\n",
    "    \n",
    "    print(f\"Token count: {count_tokens(response)}\")\n",
    "\n",
    "    aggregated.at[idx, f'{PART}_summary'] = response"
   ]
  },
  {
   "cell_type": "code",
   "execution_count": null,
   "metadata": {},
   "outputs": [],
   "source": [
    "aggregated.head()"
   ]
  },
  {
   "cell_type": "code",
   "execution_count": null,
   "metadata": {},
   "outputs": [],
   "source": [
    "# save as csv\n",
    "if POST:\n",
    "    aggregated.to_csv(f'../transcripts/post_{PART}_summary.csv', index=False, sep='|')\n",
    "else:\n",
    "    aggregated.to_csv(f'../transcripts/{PART}_summary.csv', index=False, sep='|')"
   ]
  },
  {
   "cell_type": "markdown",
   "metadata": {},
   "source": []
  }
 ],
 "metadata": {
  "kernelspec": {
   "display_name": "aiss",
   "language": "python",
   "name": "aiss"
  },
  "language_info": {
   "codemirror_mode": {
    "name": "ipython",
    "version": 3
   },
   "file_extension": ".py",
   "mimetype": "text/x-python",
   "name": "python",
   "nbconvert_exporter": "python",
   "pygments_lexer": "ipython3",
   "version": "3.8.12"
  }
 },
 "nbformat": 4,
 "nbformat_minor": 2
}
