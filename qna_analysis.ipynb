{
 "cells": [
  {
   "cell_type": "code",
   "execution_count": null,
   "metadata": {},
   "outputs": [],
   "source": [
    "import openai\n",
    "import pandas as pd\n",
    "import statsmodels.api as sm\n",
    "import matplotlib.pyplot as plt\n",
    "# Add a constant to the model (intercept)\n",
    "from sklearn.metrics import r2_score\n",
    "import time\n",
    "import statsmodels.api as sm\n",
    "from statsmodels.stats.outliers_influence import variance_inflation_factor\n",
    "from sklearn.metrics import mean_squared_error, mean_absolute_error, r2_score\n",
    "import numpy as np\n",
    "\n",
    "from dotenv import load_dotenv\n",
    "import os\n",
    "\n",
    "load_dotenv()  # Load environment variables from .env file\n",
    "\n",
    "OPENAI_API_KEY = os.getenv('OPENAI_API_KEY')\n",
    "POST = False"
   ]
  },
  {
   "cell_type": "code",
   "execution_count": null,
   "metadata": {},
   "outputs": [],
   "source": [
    "'''If executed in Google Colab, uncomment the following lines'''\n",
    "#from google.colab import drive\n",
    "#drive.mount('/content/drive')\n",
    "\n",
    "#import os\n",
    "#os.chdir('/content/drive/MyDrive/LLM_CreditorRRPrediction')"
   ]
  },
  {
   "cell_type": "code",
   "execution_count": null,
   "metadata": {},
   "outputs": [],
   "source": [
    "# import system_message.txt as a string\n",
    "with open('prompts/system_qna_scores.txt', 'r') as file:\n",
    "    system_message = file.read()\n",
    "\n",
    "print(system_message)"
   ]
  },
  {
   "cell_type": "code",
   "execution_count": null,
   "metadata": {},
   "outputs": [],
   "source": [
    "if POST:\n",
    "    aggregated = pd.read_csv('transcripts/post_aggregated_credit_df.csv', delimiter='|')\n",
    "else:\n",
    "    aggregated = pd.read_csv('transcripts/aggregated_credit_df.csv', delimiter='|')\n",
    "\n",
    "aggregated.head()"
   ]
  },
  {
   "cell_type": "code",
   "execution_count": null,
   "metadata": {},
   "outputs": [],
   "source": [
    "client = openai.OpenAI(api_key=OPENAI_API_KEY)"
   ]
  },
  {
   "cell_type": "code",
   "execution_count": null,
   "metadata": {},
   "outputs": [],
   "source": [
    "for idx, row in aggregated.iterrows():\n",
    "    try:\n",
    "        completion = client.chat.completions.create(\n",
    "            model=\"gpt-4o-mini\",\n",
    "            temperature=0,\n",
    "            messages=[\n",
    "                {\"role\": \"system\", \"content\": system_message},\n",
    "                {\"role\": \"user\", \"content\": row['QnA']}\n",
    "            ]\n",
    "        )\n",
    "        # Instantly add the output as a new column entry for the corresponding row\n",
    "        response = completion.choices[0].message.content\n",
    "\n",
    "        # Parse response columns and populate the DataFrame\n",
    "        aggregated.at[idx, 'analyst_concerns'] = float(response.split('; ')[0]) \n",
    "        aggregated.at[idx, 'responsiveness'] = float(response.split('; ')[1])\n",
    "        aggregated.at[idx, 'confidence'] = float(response.split('; ')[2])\n",
    "        aggregated.at[idx, 'evasiveness'] = float(response.split('; ')[3])\n",
    "        aggregated.at[idx, 'depth'] = float(response.split('; ')[4])\n",
    "        aggregated.at[idx, 'analyst_satisfaction'] = float(response.split('; ')[5])\n",
    "        aggregated.at[idx, 'language_accessibility'] = float(response.split('; ')[6])\n",
    "        \n",
    "        print(f\"Completed for row {idx}\")\n",
    "        print(completion.choices[0].message.content)\n",
    "\n",
    "    except openai.error.OpenAIError as e:\n",
    "        print(f\"An exception occurred: {e}\")\n",
    "        print(\"Waiting for 1 minute before retrying...\")\n",
    "        time.sleep(60)\n"
   ]
  },
  {
   "cell_type": "code",
   "execution_count": null,
   "metadata": {},
   "outputs": [],
   "source": [
    "aggregated.head()"
   ]
  },
  {
   "cell_type": "code",
   "execution_count": null,
   "metadata": {},
   "outputs": [],
   "source": [
    "llm_labels = ['analyst_concerns', 'responsiveness', 'confidence', 'evasiveness', 'depth', 'analyst_satisfaction', 'language_accessibility']"
   ]
  },
  {
   "cell_type": "code",
   "execution_count": null,
   "metadata": {},
   "outputs": [],
   "source": [
    "if POST:\n",
    "    transcripts = pd.read_csv('transcripts/post_credit_df.csv', delimiter='|')\n",
    "else:\n",
    "    transcripts = pd.read_csv('transcripts/credit_df.csv', delimiter='|')\n",
    "\n",
    "# merge output_df with transcripts on 'transcript_number' and index\n",
    "transcripts = pd.merge(transcripts,\n",
    "                          aggregated[['call_ID'] + llm_labels],\n",
    "                          on='call_ID',\n",
    "                          how='left')\n",
    "\n",
    "checkpoint = transcripts.copy()\n",
    "\n",
    "# replace #DIV/0! & Nan with 0\n",
    "# Replace '#DIV/0!' with NaN\n",
    "checkpoint.replace('#DIV/0!', np.nan, inplace=True)\n",
    "checkpoint = checkpoint.fillna(0)\n",
    "\n",
    "# make sure all values are numeric except for the Date column\n",
    "checkpoint = checkpoint.apply(pd.to_numeric, errors='ignore')\n",
    "\n",
    "# min max scale llm_labels\n",
    "from sklearn.preprocessing import MinMaxScaler\n",
    "min_max_scaler = MinMaxScaler()\n",
    "checkpoint[llm_labels] = min_max_scaler.fit_transform(checkpoint[llm_labels])"
   ]
  },
  {
   "cell_type": "code",
   "execution_count": null,
   "metadata": {},
   "outputs": [],
   "source": [
    "# save checkpoint as csv\n",
    "if POST:\n",
    "    checkpoint.to_csv('transcripts/post_LLM_QnA_analysis.csv', index=False)\n",
    "else:\n",
    "    checkpoint.to_csv('transcripts/LLM_QnA_analysis.csv', index=False)\n",
    "#checkpoint = pd.read_csv('transcripts/LLM_outputs_QnA.csv')"
   ]
  },
  {
   "cell_type": "code",
   "execution_count": null,
   "metadata": {},
   "outputs": [],
   "source": [
    "# List of selected supporting features\n",
    "supporting_features_1 = [\n",
    "    'CBOE DJIA Volatility Index',\n",
    "    'NASDAQ 100 Index return',\n",
    "    'Manufacturers inventories to sales ratio',\n",
    "    '30 year conventional mortgage rate',\n",
    "    'Communication Services', \n",
    "    'Consumer Discretionary', \n",
    "    'Senior secured',  \n",
    "    'Time to maturity',  \n",
    "    'Equity value',\n",
    "    'CDS availability',\n",
    "    'ActIndustryDistress1',\n",
    "    'ActIndustryDistress2',\n",
    "    'Offering amount',\n",
    "    'Volume',\n",
    "    'Industrials','Consumer Staples','Financials','Energy','Health Care','Utilities','Information Technology','Real Estate'\n",
    "]\n",
    "\n",
    "supporting_features_2 = [\n",
    "    'Default barrier',\n",
    "    'LTDIssuance2',\n",
    "    'Intangibility',\n",
    "    'Receivables1',\n",
    "]"
   ]
  },
  {
   "cell_type": "code",
   "execution_count": null,
   "metadata": {},
   "outputs": [],
   "source": [
    "'''BOND LEVEL'''\n",
    "# Select the supporting features, nlp_lables, and RR from final_df\n",
    "final_df = checkpoint[['RR']\n",
    "                    + supporting_features_1\n",
    "                    + supporting_features_2\n",
    "                    + llm_labels \n",
    "                    ]\n",
    "\n",
    "# In-Sample-Regression\n",
    "y_train, y_test = final_df['RR'], final_df['RR']\n",
    "X_train, X_test = final_df.drop(columns=['RR']), final_df.drop(columns=['RR'])"
   ]
  },
  {
   "cell_type": "code",
   "execution_count": null,
   "metadata": {},
   "outputs": [],
   "source": [
    "# LLM features\n",
    "\n",
    "X_train = sm.add_constant(X_train)\n",
    "X_test = sm.add_constant(X_test)\n",
    "\n",
    "# Fit the model\n",
    "model = sm.OLS(y_train, X_train).fit()\n",
    "\n",
    "# Print the summary of the model which includes p-values and significance levels\n",
    "print(model.summary())\n",
    "\n",
    "# Make predictions\n",
    "y_pred = model.predict(X_test)\n",
    "\n",
    "# Compute and print evaluation metrics\n",
    "mse = mean_squared_error(y_test, y_pred)\n",
    "r2 = r2_score(y_test, y_pred)\n",
    "print(f\"Mean Squared Error: {mse}\")\n",
    "print(f\"Root Mean Squared Error: {np.sqrt(mse)}\")\n",
    "print(f\"R-squared: {r2}\")\n",
    "\n",
    "# other metric\n",
    "# Calculate the residuals\n",
    "residuals = y_test - y_pred\n",
    "\n",
    "# Plot the residuals\n",
    "plt.figure(figsize=(10, 5))\n",
    "plt.scatter(y_test, residuals)\n",
    "plt.axhline(y=0, color='r', linestyle='--')\n",
    "plt.xlabel('Recovery Rate')\n",
    "plt.ylabel('Residuals')\n",
    "\n",
    "# Display the plot\n",
    "plt.show()"
   ]
  },
  {
   "cell_type": "code",
   "execution_count": null,
   "metadata": {},
   "outputs": [],
   "source": [
    "# Compute variance inflation factor \n",
    "vif = pd.DataFrame()\n",
    "vif[\"Features\"] = X_train.columns\n",
    "vif[\"VIF\"] = [variance_inflation_factor(X_train.values, i) for i in range(X_train.shape[1])]\n",
    "vif = vif.sort_values(by='VIF', ascending=False)\n",
    "\n",
    "# Display the VIF\n",
    "print(vif)"
   ]
  },
  {
   "cell_type": "code",
   "execution_count": null,
   "metadata": {},
   "outputs": [],
   "source": [
    "# select significant features\n",
    "model.significance = model.pvalues[model.pvalues < 0.05].index\n",
    "\n",
    "# build a graph to show the importance of each feature\n",
    "importances = model.params[1:]\n",
    "importances = importances.sort_values()\n",
    "\n",
    "# Sort the importance values based on absolute values, not just positive or negative\n",
    "top_10_importances = importances.abs().sort_values(ascending=False).head(10)\n",
    "\n",
    "# reduce importances to only the top 10\n",
    "importances = importances[top_10_importances.index]\n",
    "importances = importances.sort_values()\n",
    "\n",
    "# color significant features 0/150/130 and others in grey\n",
    "colors = ['#009682' if feature in model.significance else 'grey' for feature in importances.index]\n",
    "\n",
    "plt.figure(figsize=(10, 5))\n",
    "plt.barh(importances.index, importances.values, color=colors)\n",
    "# Create a custom legend\n",
    "handles = [plt.Rectangle((0, 0), 1, 1, color='#009682'), plt.Rectangle((0, 0), 1, 1, color='grey')]\n",
    "labels = ['Significant', 'Not Significant']\n",
    "plt.legend(handles, labels)\n",
    "plt.xlabel('Impact')\n",
    "plt.ylabel('Features')\n",
    "plt.title('Features Impact on Recovery Rate')\n",
    "plt.show()"
   ]
  },
  {
   "cell_type": "code",
   "execution_count": null,
   "metadata": {},
   "outputs": [],
   "source": []
  }
 ],
 "metadata": {
  "kernelspec": {
   "display_name": "aiss",
   "language": "python",
   "name": "aiss"
  },
  "language_info": {
   "codemirror_mode": {
    "name": "ipython",
    "version": 3
   },
   "file_extension": ".py",
   "mimetype": "text/x-python",
   "name": "python",
   "nbconvert_exporter": "python",
   "pygments_lexer": "ipython3",
   "version": "3.8.12"
  }
 },
 "nbformat": 4,
 "nbformat_minor": 2
}
