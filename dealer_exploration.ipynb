{
 "cells": [
  {
   "cell_type": "code",
   "execution_count": 2,
   "metadata": {},
   "outputs": [],
   "source": [
    "import pandas as pd\n",
    "import statsmodels.api as sm\n",
    "import matplotlib.pyplot as plt\n",
    "import numpy as np\n",
    "import seaborn as sns\n",
    "import matplotlib.dates as mdates"
   ]
  },
  {
   "cell_type": "code",
   "execution_count": null,
   "metadata": {},
   "outputs": [],
   "source": [
    "'''If executed in Google Colab, uncomment the following lines'''\n",
    "#from google.colab import drive\n",
    "#drive.mount('/content/drive')\n",
    "\n",
    "#import os\n",
    "#os.chdir('/content/drive/MyDrive/LLM_CreditorRRPrediction')"
   ]
  },
  {
   "cell_type": "code",
   "execution_count": 4,
   "metadata": {},
   "outputs": [],
   "source": [
    "presentation_labels = ['negative_sentiment', 'positive_sentiment', 'uncertainty', 'optimistic', 'pessimistic', 'vagueness', 'language_accessibility_presentation',\n",
    "              'liquidity_position', 'debt_leverage_stress', 'operational_trends', 'industry_positioning', 'asset_quality', 'recovery_strategies', 'legal_issues','macroeconomic']\n",
    "\n",
    "qna_labels = ['analyst_concerns', 'responsiveness', 'confidence', 'evasiveness', 'depth', 'analyst_satisfaction', 'language_accessibility_qna']\n",
    "\n",
    "qna_mgmt = ['responsiveness', 'confidence', 'depth', 'evasiveness', 'language_accessibility_qna']\n",
    "qna_analysts = ['analyst_concerns', 'analyst_satisfaction']\n",
    "\n",
    "emotions = [\n",
    "        'admiration', \n",
    "        #'amusement', \n",
    "        'anger', \n",
    "        'annoyance', \n",
    "        'approval', \n",
    "        'caring', \n",
    "        'confusion', \n",
    "        'curiosity', \n",
    "        'desire',\n",
    "        'disappointment', \n",
    "        'disapproval', \n",
    "        #'disgust', \n",
    "        'embarrassment', \n",
    "        'excitement', \n",
    "        'fear', \n",
    "        #'gratitude', \n",
    "        #'grief',\n",
    "        'joy', \n",
    "        #'love', \n",
    "        'nervousness', \n",
    "        'optimism', \n",
    "        'pride', \n",
    "        'realization', \n",
    "        'relief', \n",
    "        'remorse', \n",
    "        'sadness', \n",
    "        'surprise'\n",
    "    ]\n",
    "\n",
    "analyst_emotions = []\n",
    "for i in emotions:\n",
    "    analyst_emotions.append(i + '_analysts')\n",
    "\n",
    "macro_industry = [\n",
    "    'CBOE DJIA Volatility Index',\n",
    "    'NASDAQ 100 Index return',\n",
    "    'Manufacturers inventories to sales ratio',\n",
    "    '30 year conventional mortgage rate',\n",
    "    'Communication Services', 'Consumer Discretionary', 'Industrials','Consumer Staples','Financials','Energy','Health Care','Utilities','Information Technology','Real Estate'\n",
    "]\n",
    "\n",
    "primary_dealer_features = [\n",
    "    'TimeToMaturity', 'TimeSinceOffering', 'Offering_amount',\n",
    "       'SinkingFund', 'BOND_COUPON', 'IQ_CDS_availability',\n",
    "        'AvgTransVol', 'TotalVolume', 'TRADES_VOL',\n",
    "       'EquityValue', 'DefaultBarrier2', 'LTDIssuance2', 'Intangibility', 'Receivables1',\n",
    "       'NumberEmployees', 'IndDis1', 'IndDis2'\n",
    "]"
   ]
  },
  {
   "cell_type": "code",
   "execution_count": null,
   "metadata": {},
   "outputs": [],
   "source": [
    "dealer_data = pd.read_csv('dealer/dealer_data.csv')"
   ]
  },
  {
   "cell_type": "code",
   "execution_count": null,
   "metadata": {},
   "outputs": [],
   "source": [
    "# Define the columns needed based on your list for predicting 'PrimaryDealer'\n",
    "columns_needed = ['Date', 'DealCSP', \"RR_Price\", \"PrimaryDealer\",\"Seniority\",\"C2D_Dealer\",\n",
    "    # Trade chain\n",
    "    'TRADE_CHAIN2', 'TRADE_CHAIN3', 'TRADE_CHAIN4', 'TRADE_CHAIN5', 'TRADE_CHAIN6', 'TRADE_CHAIN7', 'TRADE_CHAIN8', 'TRADE_CHAIN9', 'TRADE_CHAIN10']\n",
    "    # Probability prediction\n",
    "\n",
    "\n",
    "# Limit the DataFrame to the relevant columns\n",
    "dealer_df_limited = dealer_data[columns_needed + primary_dealer_features]\n",
    "\n",
    "# rename DealCSP to CUSIP\n",
    "dealer_df_limited.rename(columns={'DealCSP': 'CUSIP'}, inplace=True)\n",
    "\n",
    "# rename RR_price to dealer_RR\n",
    "dealer_df_limited.rename(columns={'RR_Price': 'dealer_RR'}, inplace=True)\n",
    "\n",
    "# transform the date column to date\n",
    "dealer_df_limited['Date'] = pd.to_datetime(dealer_df_limited['Date'])\n",
    "\n",
    "# ingore time\n",
    "dealer_df_limited['Date'] = dealer_df_limited['Date'].dt.date"
   ]
  },
  {
   "cell_type": "code",
   "execution_count": 7,
   "metadata": {},
   "outputs": [],
   "source": [
    "# Convert categorical columns to dummy variables\n",
    "categorical_cols = [\"Seniority\"]\n",
    "dealer_df_limited = pd.get_dummies(dealer_df_limited, columns=categorical_cols, drop_first=True)\n",
    "primary_dealer_features.append(['Seniority_SeniorSubordinate', 'Seniority_SeniorUnsecured', 'Seniority_SubordinateJunior'])"
   ]
  },
  {
   "cell_type": "code",
   "execution_count": 8,
   "metadata": {},
   "outputs": [],
   "source": [
    "primary_dealer_features.append('Seniority_SeniorSubordinate')\n",
    "primary_dealer_features.append('Seniority_SeniorUnsecured')\n",
    "primary_dealer_features.append('Seniority_SubordinateJunior')"
   ]
  },
  {
   "cell_type": "code",
   "execution_count": 9,
   "metadata": {},
   "outputs": [],
   "source": [
    "llm_output = pd.read_csv(f'transcripts/LLM_outputs_final.csv', delimiter='|')"
   ]
  },
  {
   "cell_type": "code",
   "execution_count": 10,
   "metadata": {},
   "outputs": [],
   "source": [
    "llm_output = llm_output[['Date', 'Ddate', 'CUSIP', 'RR', 'call_ID'] + presentation_labels + qna_labels + macro_industry + emotions + analyst_emotions]"
   ]
  },
  {
   "cell_type": "code",
   "execution_count": 11,
   "metadata": {},
   "outputs": [],
   "source": [
    "# Ensure the columns are in datetime format\n",
    "llm_output['Date'] = pd.to_datetime(llm_output['Date'])\n",
    "llm_output['Ddate'] = pd.to_datetime(llm_output['Ddate'])\n",
    "llm_output\n",
    "llm_output['t_delta'] = llm_output['Ddate'] - llm_output['Date']\n",
    "\n",
    "# drop all with t_delta > 180\n",
    "llm_output = llm_output[llm_output['t_delta'] <= pd.Timedelta('180 days')]"
   ]
  },
  {
   "cell_type": "code",
   "execution_count": 12,
   "metadata": {},
   "outputs": [],
   "source": [
    "dealer_df = pd.merge(dealer_df_limited, llm_output, on='CUSIP', how='inner')"
   ]
  },
  {
   "cell_type": "code",
   "execution_count": null,
   "metadata": {},
   "outputs": [],
   "source": [
    "\"\"\"DATA EXPLORATION\"\"\""
   ]
  },
  {
   "cell_type": "code",
   "execution_count": 45,
   "metadata": {},
   "outputs": [],
   "source": [
    "# rename Date_x to Date_Trade and Date_y to Date_Call\n",
    "dealer_df.rename(columns={'Date_x': 'Date_Trade', 'Date_y': 'Date_Call'}, inplace=True)"
   ]
  },
  {
   "cell_type": "code",
   "execution_count": 46,
   "metadata": {},
   "outputs": [],
   "source": [
    "# Convert date columns to datetime if needed\n",
    "if not np.issubdtype(dealer_df['Date_Trade'].dtype, np.datetime64):\n",
    "    dealer_df['Date_Trade'] = pd.to_datetime(dealer_df['Date_Trade'], errors='coerce')\n",
    "\n",
    "if not np.issubdtype(dealer_df['Date_Call'].dtype, np.datetime64):\n",
    "    dealer_df['Date_Call'] = pd.to_datetime(dealer_df['Date_Call'], errors='coerce')\n",
    "\n",
    "if not np.issubdtype(dealer_df['Ddate'].dtype, np.datetime64):\n",
    "    dealer_df['Ddate'] = pd.to_datetime(dealer_df['Ddate'], errors='coerce')\n",
    "\n",
    "# If you have multiple bonds/dates, a typical approach is:\n",
    "dealer_df = dealer_df.sort_values(['CUSIP','Date_Trade']).copy()"
   ]
  },
  {
   "cell_type": "code",
   "execution_count": null,
   "metadata": {},
   "outputs": [],
   "source": [
    "# drop all with Date_Trade > Ddate + 30\n",
    "print(len(dealer_df))\n",
    "dealer_df = dealer_df[dealer_df['Date_Trade'] <= dealer_df['Ddate'] + pd.Timedelta('30 days')]\n",
    "print(len(dealer_df))"
   ]
  },
  {
   "cell_type": "code",
   "execution_count": null,
   "metadata": {},
   "outputs": [],
   "source": [
    "dealer_df['call_default'] = dealer_df['Ddate'] - dealer_df['Date_Call']\n",
    "print(dealer_df['call_default'].mean())\n",
    "test_df = dealer_df[dealer_df['call_default'] != pd.Timedelta('84 days')]\n",
    "print(test_df['call_default'].mean())"
   ]
  },
  {
   "cell_type": "code",
   "execution_count": null,
   "metadata": {},
   "outputs": [],
   "source": [
    "# print unique companies with call_default == 84\n",
    "test_df = dealer_df[dealer_df['call_default'] == pd.Timedelta('84 days')]\n",
    "test_df['CUSIP'].unique()"
   ]
  },
  {
   "cell_type": "code",
   "execution_count": null,
   "metadata": {},
   "outputs": [],
   "source": [
    "def flag_event_window(df, call_date_col='Date_Call', trade_date_col='Date_Trade', window=7):\n",
    "    \"\"\"\n",
    "    For each row, checks if Date_Trade is within +/- window days of Date_Call.\n",
    "    Returns an integer flag: -1 if in pre-event window, 0 if event date, 1 if in post-event window, else np.nan\n",
    "    \"\"\"\n",
    "    delta = (df[trade_date_col] - df[call_date_col]).dt.days\n",
    "    conditions = [\n",
    "        (delta < 0) & (delta >= -window),\n",
    "        (delta == 0),\n",
    "        (delta > 0) & (delta <= window)\n",
    "    ]\n",
    "    choices = [-1, 0, 1]  # you can define your own labeling\n",
    "    return np.select(conditions, choices, default=np.nan)\n",
    "\n",
    "for t in [7, 14, 30]:  # define multiple windows\n",
    "\n",
    "    dealer_df[f'event_flag_{t}d'] = flag_event_window(dealer_df, 'Date_Call', 'Date_Trade', window=t)\n",
    "\n",
    "    pre_event = dealer_df[dealer_df[f'event_flag_{t}d'] == -1]\n",
    "    post_event = dealer_df[dealer_df[f'event_flag_{t}d'] == 1]\n",
    "    on_event = dealer_df[dealer_df[f'event_flag_{t}d'] == 0]\n",
    "\n",
    "    # count of pre/post-event observations\n",
    "    print(f\"\\n\\n{t}-day window:\")\n",
    "    print(f\"Pre-event: {len(pre_event)}\")\n",
    "    print(f\"Post-event: {len(post_event)}\")\n",
    "    print(f\"On-event: {len(on_event)}\")"
   ]
  },
  {
   "cell_type": "code",
   "execution_count": null,
   "metadata": {},
   "outputs": [],
   "source": [
    "dealer_df['delta_days'] = (dealer_df['Date_Trade'] - dealer_df['Date_Call']).dt.days\n",
    "\n",
    "# plot frequency of trades per day over time in relation to earnings calls\n",
    "avg_trades = dealer_df.groupby('delta_days').size()#.rolling(window=3).mean()\n",
    "avg_trades.name = 'avg_trades'\n",
    "\n",
    "fig, ax = plt.subplots(figsize=(12, 6))\n",
    "ax.plot(avg_trades, label='Trades per Day', color='black')\n",
    "\n",
    "# add to x=0 dotted lines \n",
    "ax.axvline(0, color='red', linestyle='--', label='Earnings Call Date')\n",
    "ax.set_xlabel('Days from Earnings Call Date')\n",
    "# x min = -30\n",
    "ax.set_xlim(-30, 30)\n",
    "ax.set_ylabel('Number of Trades')\n",
    "ax.set_ylim(0, 2000)\n",
    "ax.set_title('Average Number of Trades per Day')\n",
    "ax.legend()\n",
    "plt.show()"
   ]
  },
  {
   "cell_type": "code",
   "execution_count": null,
   "metadata": {},
   "outputs": [],
   "source": [
    "dealer_df['delta_default'] = (dealer_df['Date_Trade'] - dealer_df['Ddate']).dt.days\n",
    "\n",
    "# plot frequency of trades per day over time in relation to earnings calls\n",
    "avg_trades = dealer_df.groupby('delta_default').size()#.rolling(window=3).mean()\n",
    "avg_trades.name = 'avg_trades'\n",
    "\n",
    "fig, ax = plt.subplots(figsize=(12, 6))\n",
    "ax.plot(avg_trades, label='Trades per Day', color='black')\n",
    "\n",
    "# add to x=0 dotted lines \n",
    "ax.axvline(0, color='red', linestyle='--', label='Default Date')\n",
    "ax.set_xlabel('Days from Default Date')\n",
    "# x min = -30\n",
    "ax.set_xlim(-30, 30)\n",
    "ax.set_ylabel('Number of Trades')\n",
    "ax.set_ylim(0, 20000)\n",
    "ax.set_title('Average Number of Trades per Day')\n",
    "ax.legend()\n",
    "plt.show()"
   ]
  },
  {
   "cell_type": "code",
   "execution_count": null,
   "metadata": {},
   "outputs": [],
   "source": [
    "# percentage of trades being done by primary dealer within 30 after call\n",
    "after_30 = dealer_df[dealer_df['delta_days'] > 0]\n",
    "after_30 = after_30[after_30['delta_days'] <= 30]\n",
    "print('Percentage Primary 30 days after call')\n",
    "print(len(after_30[after_30['PrimaryDealer'] == 1]) / len(after_30))\n",
    "\n",
    "print('Precentage Primary general')\n",
    "print(len(dealer_df[dealer_df['PrimaryDealer'] == 1]) / len(dealer_df))"
   ]
  },
  {
   "cell_type": "code",
   "execution_count": 54,
   "metadata": {},
   "outputs": [],
   "source": [
    "# transform Date_y to date\n",
    "dealer_df['Date_Call'] = pd.to_datetime(dealer_df['Date_Call'])\n",
    "\n",
    "# drop all rows where Date_x < Date_y\n",
    "dealer_df = dealer_df[dealer_df['Date_Trade'] >= dealer_df['Date_Call']]"
   ]
  },
  {
   "cell_type": "code",
   "execution_count": null,
   "metadata": {},
   "outputs": [],
   "source": [
    "# calculate the average RR_Price for each day after the call\n",
    "daily_avg_rr = dealer_df.groupby(['delta_days'])['dealer_RR'].mean().reset_index()\n",
    "\n",
    "# plot the average RR_Price for each day after the call\n",
    "fig, ax = plt.subplots(figsize=(12, 6))\n",
    "\n",
    "# plot rolling mean\n",
    "rolling_mean = daily_avg_rr['dealer_RR'].rolling(window=3).mean()\n",
    "ax.plot(daily_avg_rr['delta_days'], rolling_mean, label='3-day Rolling Mean RR', color='grey')\n",
    "\n",
    "# add to x=0 dotted lines\n",
    "ax.axvline(0, color='red', linestyle='--', label='Earnings Call Date')\n",
    "ax.set_xlabel('Date')\n",
    "# set x: min=0, max=60\n",
    "ax.set_xlim(-0.3, 120)\n",
    "# mark 52 as avg Default \n",
    "ax.axvline(52, color='black', linestyle='--', label='Mean Time to Default')\n",
    "ax.set_ylabel('Average RR')\n",
    "ax.set_title('Daily Average RR of all Bonds')\n",
    "ax.legend()\n",
    "plt.show()"
   ]
  },
  {
   "cell_type": "code",
   "execution_count": null,
   "metadata": {},
   "outputs": [],
   "source": [
    "# calculate the average RR_Price for each day after the call\n",
    "daily_avg_rr = dealer_df.groupby(['delta_days'])['dealer_RR'].mean().reset_index()\n",
    "\n",
    "# plot the average RR_Price for each day after the call\n",
    "fig, ax = plt.subplots(figsize=(12, 6))\n",
    "ax.plot(daily_avg_rr['delta_days'], daily_avg_rr['dealer_RR'], label='Daily Average RR', color='black')\n",
    "\n",
    "# add to x=0 dotted lines\n",
    "ax.axvline(0, color='red', linestyle='--', label='Earnings Call Date')\n",
    "ax.set_xlabel('Date')\n",
    "# set x: min=0, max=60\n",
    "ax.set_xlim(-0.3, 120)\n",
    "# mark 52 as avg Default \n",
    "ax.axvline(52, color='black', linestyle='--', label='Mean Time to Default')\n",
    "ax.set_ylabel('Average RR')\n",
    "ax.set_title('Daily Average RR of all Bonds')\n",
    "ax.legend()\n",
    "plt.show()"
   ]
  },
  {
   "cell_type": "code",
   "execution_count": null,
   "metadata": {},
   "outputs": [],
   "source": [
    "# calculate the average RR_Price for each day after the call\n",
    "daily_avg_rr = dealer_df.groupby(['delta_days'])['dealer_RR'].mean().reset_index()\n",
    "\n",
    "# plot the average RR_Price for each day after the call\n",
    "fig, ax = plt.subplots(figsize=(12, 6))\n",
    "ax.plot(daily_avg_rr['delta_days'], daily_avg_rr['dealer_RR'], label='Daily Average RR', color='black')\n",
    "\n",
    "# plot rolling mean\n",
    "rolling_mean = daily_avg_rr['dealer_RR'].rolling(window=3).mean()\n",
    "ax.plot(daily_avg_rr['delta_days'], rolling_mean, label='3-day Rolling Mean RR', color='grey')\n",
    "\n",
    "# add to x=0 dotted lines\n",
    "ax.axvline(0, color='red', linestyle='--', label='Earnings Call Date')\n",
    "ax.set_xlabel('Date')\n",
    "# set x: min=0, max=60\n",
    "ax.set_xlim(-0.3, 120)\n",
    "# mark 52 as avg Default \n",
    "ax.axvline(52, color='black', linestyle='--', label='Mean Time to Default')\n",
    "ax.set_ylabel('Average RR')\n",
    "ax.set_title('Daily Average RR of all Bonds')\n",
    "ax.legend()\n",
    "plt.show()"
   ]
  },
  {
   "cell_type": "code",
   "execution_count": null,
   "metadata": {},
   "outputs": [],
   "source": [
    "# calculate the average RR_Price for each day after the call\n",
    "daily_avg_rr = dealer_df.groupby(['delta_default'])['dealer_RR'].mean().reset_index()\n",
    "\n",
    "# plot the average RR_Price for each day after the call\n",
    "fig, ax = plt.subplots(figsize=(12, 6))\n",
    "ax.plot(daily_avg_rr['delta_default'], daily_avg_rr['dealer_RR'], label='Daily Average RR', color='black')\n",
    "\n",
    "# plot rolling mean\n",
    "rolling_mean = daily_avg_rr['dealer_RR'].rolling(window=5).mean()\n",
    "ax.plot(daily_avg_rr['delta_default'], rolling_mean, label='3-day Rolling Mean', color='grey')\n",
    "\n",
    "ax.set_xlabel('Date')\n",
    "# set x: min=0, max=60\n",
    "ax.set_xlim(-30, 30)\n",
    "# mark 52 as avg Default \n",
    "ax.axvline(0, color='black', linestyle='--', label='Default Date')\n",
    "ax.set_ylabel('Average RR')\n",
    "ax.set_title('Daily Average RR of all Bonds')\n",
    "ax.legend()\n",
    "plt.show()"
   ]
  },
  {
   "cell_type": "code",
   "execution_count": null,
   "metadata": {},
   "outputs": [],
   "source": [
    "# calculate the number of trades 7 days after the call\n",
    "trades_7d = dealer_df.groupby('CUSIP')['event_flag_7d'].sum().reset_index()\n",
    "\n",
    "# count per CUSIP descending\n",
    "trades_7d = trades_7d.sort_values('event_flag_7d', ascending=False)\n",
    "# rename event_flag_7d to trades_7d\n",
    "trades_7d.rename(columns={'event_flag_7d': 'trades_7d'}, inplace=True)\n",
    "trades_7d"
   ]
  },
  {
   "cell_type": "code",
   "execution_count": null,
   "metadata": {},
   "outputs": [],
   "source": [
    "# merge the number of trades 7 days after the call with the dealer_df\n",
    "high_trades = pd.merge(dealer_df, trades_7d, on='CUSIP', how='inner')\n",
    "high_trades = high_trades[high_trades['trades_7d'] > 10]\n",
    "\n",
    "# unique call_IDs\n",
    "high_trades['call_ID'].nunique()"
   ]
  },
  {
   "cell_type": "code",
   "execution_count": null,
   "metadata": {},
   "outputs": [],
   "source": [
    "high_trades[['Date_Call', \"Ddate\"]]"
   ]
  },
  {
   "cell_type": "code",
   "execution_count": null,
   "metadata": {},
   "outputs": [],
   "source": [
    "# give me the number of rows where delta_default < 0 and delta_days > 0\n",
    "trades_between = dealer_df[(dealer_df['delta_default'] < 0) & (dealer_df['delta_days'] > 0)]\n",
    "trades_between['call_ID'].nunique()"
   ]
  },
  {
   "cell_type": "code",
   "execution_count": 28,
   "metadata": {},
   "outputs": [],
   "source": [
    "# List of trade chain columns\n",
    "trade_chain_cols = ['TRADE_CHAIN2', 'TRADE_CHAIN3', 'TRADE_CHAIN4', 'TRADE_CHAIN5', 'TRADE_CHAIN6', 'TRADE_CHAIN7', 'TRADE_CHAIN8', 'TRADE_CHAIN9', 'TRADE_CHAIN10']\n",
    "\n",
    "# Calculate chain length\n",
    "dealer_df['transaction_chain_length'] = dealer_df[trade_chain_cols].notna().sum(axis=1) + 1  # +1 for the initial trade"
   ]
  },
  {
   "cell_type": "code",
   "execution_count": 29,
   "metadata": {},
   "outputs": [],
   "source": [
    "# export the data\n",
    "dealer_df.to_csv('dealer/dealer_data_llm_output.csv', index=False, sep='|')"
   ]
  },
  {
   "cell_type": "code",
   "execution_count": null,
   "metadata": {},
   "outputs": [],
   "source": [
    "# Descriptive data analysis\n",
    "print(f\"Transactions: {len(dealer_df)}\")\n",
    "print(f\"Primary Transactions: {len(dealer_df[dealer_df['PrimaryDealer'] == 1])/len(dealer_df)}\")\n",
    "\n",
    "# unique bonds\n",
    "print(f\"No Bonds: {len(dealer_df['CUSIP'].unique())}\")\n",
    "print(f\"No Bonds traded by Primary: {len(dealer_df[dealer_df['PrimaryDealer'] == 1]['CUSIP'].unique())}\")\n",
    "\n",
    "# average trades per bond\n",
    "print(f\"Avg trades per bond: {dealer_df['CUSIP'].value_counts().mean()}\")\n",
    "\n",
    "# average recovery rate\n",
    "print(f\"Avg RR: {dealer_df['dealer_RR'].mean()}\")\n",
    "\n",
    "# average recovery rate primary dealer\n",
    "print(f\"Avg RR Primary: {dealer_df[dealer_df['PrimaryDealer'] == 1]['dealer_RR'].mean()}\")\n",
    "\n",
    "# average recovery rate non-primary dealer\n",
    "print(f\"Avg RR Non-Primary: {dealer_df[dealer_df['PrimaryDealer'] == 0]['dealer_RR'].mean()}\")"
   ]
  },
  {
   "cell_type": "code",
   "execution_count": null,
   "metadata": {},
   "outputs": [],
   "source": [
    "# Create a kernel density estimation plot for dealer_RR grouped by PrimaryDealer\n",
    "plt.figure(figsize=(10, 6))\n",
    "\n",
    "# Plot density for Primary Dealers (PrimaryDealer == 1)\n",
    "dealer_df[dealer_df['PrimaryDealer'] == 1]['dealer_RR'].plot.kde(label='Primary Dealer', linewidth=2, color='#009682')\n",
    "\n",
    "# Plot density for Non-Primary Dealers (PrimaryDealer == 0) \n",
    "dealer_df[dealer_df['PrimaryDealer'] == 0]['dealer_RR'].plot.kde(label='Non-Primary Dealer', linewidth=2, color='grey')\n",
    "\n",
    "plt.xlabel('Recovery Rate')\n",
    "# x 0 - 125\n",
    "plt.xlim(0, 125)\n",
    "plt.ylabel('Density')\n",
    "plt.title('Distribution of Recovery Rates by Dealer Type')\n",
    "plt.legend()"
   ]
  }
 ],
 "metadata": {
  "kernelspec": {
   "display_name": "aiss",
   "language": "python",
   "name": "aiss"
  },
  "language_info": {
   "codemirror_mode": {
    "name": "ipython",
    "version": 3
   },
   "file_extension": ".py",
   "mimetype": "text/x-python",
   "name": "python",
   "nbconvert_exporter": "python",
   "pygments_lexer": "ipython3",
   "version": "3.8.12"
  }
 },
 "nbformat": 4,
 "nbformat_minor": 2
}
