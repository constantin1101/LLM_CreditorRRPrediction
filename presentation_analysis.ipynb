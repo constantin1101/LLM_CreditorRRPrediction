{
 "cells": [
  {
   "cell_type": "code",
   "execution_count": 1,
   "metadata": {},
   "outputs": [],
   "source": [
    "import openai\n",
    "import pandas as pd\n",
    "import statsmodels.api as sm\n",
    "import matplotlib.pyplot as plt\n",
    "# Add a constant to the model (intercept)\n",
    "from sklearn.metrics import r2_score\n",
    "import time\n",
    "import statsmodels.api as sm\n",
    "from statsmodels.stats.outliers_influence import variance_inflation_factor\n",
    "from sklearn.metrics import mean_squared_error, mean_absolute_error, r2_score\n",
    "import numpy as np\n",
    "\n",
    "from dotenv import load_dotenv\n",
    "import os\n",
    "\n",
    "load_dotenv()  # Load environment variables from .env file\n",
    "\n",
    "OPENAI_API_KEY = os.getenv('OPENAI_API_KEY')"
   ]
  },
  {
   "cell_type": "code",
   "execution_count": null,
   "metadata": {},
   "outputs": [],
   "source": [
    "'''If executed in Google Colab, uncomment the following lines'''\n",
    "#from google.colab import drive\n",
    "#drive.mount('/content/drive')\n",
    "\n",
    "#import os\n",
    "#os.chdir('/content/drive/MyDrive/LLM_CreditorRRPrediction')"
   ]
  },
  {
   "cell_type": "code",
   "execution_count": null,
   "metadata": {},
   "outputs": [],
   "source": [
    "PART = 'presentation'\n",
    "POST = True"
   ]
  },
  {
   "cell_type": "code",
   "execution_count": null,
   "metadata": {},
   "outputs": [],
   "source": [
    "# import system_message.txt as a string\n",
    "with open('prompts/system_presentation_scores.txt', 'r') as file:\n",
    "    system_message = file.read()\n",
    "\n",
    "print(system_message)"
   ]
  },
  {
   "cell_type": "code",
   "execution_count": null,
   "metadata": {},
   "outputs": [],
   "source": [
    "if POST:\n",
    "    aggregated = pd.read_csv('transcripts/post_aggregated_credit_df.csv', delimiter='|')\n",
    "else:\n",
    "    aggregated = pd.read_csv('transcripts/aggregated_credit_df.csv', delimiter='|')"
   ]
  },
  {
   "cell_type": "code",
   "execution_count": null,
   "metadata": {},
   "outputs": [],
   "source": [
    "client = openai.OpenAI(api_key=OPENAI_API_KEY)"
   ]
  },
  {
   "cell_type": "code",
   "execution_count": null,
   "metadata": {},
   "outputs": [],
   "source": [
    "for idx, row in aggregated.iterrows():\n",
    "    try:\n",
    "        completion = client.chat.completions.create(\n",
    "            model=\"gpt-4o-mini\",\n",
    "            temperature=0,\n",
    "            messages=[\n",
    "                {\"role\": \"system\", \"content\": system_message},\n",
    "                {\"role\": \"user\", \"content\": row[PART]}\n",
    "            ]\n",
    "        )\n",
    "        # Instantly add the output as a new column entry for the corresponding row\n",
    "        response = completion.choices[0].message.content\n",
    "\n",
    "        print(f\"Completed for row {idx}\")\n",
    "        print(response)\n",
    "\n",
    "        # Parse response columns and populate the DataFrame\n",
    "        if float(response.split('; ')[0]) >= 0:\n",
    "            aggregated.at[idx, 'positive_sentiment'] = float(response.split('; ')[0])\n",
    "            aggregated.at[idx, 'negative_sentiment'] = 0\n",
    "        else:\n",
    "            aggregated.at[idx, 'positive_sentiment'] = 0\n",
    "            aggregated.at[idx, 'negative_sentiment'] = float(response.split('; ')[0]) * -1\n",
    "\n",
    "        aggregated.at[idx, 'uncertainty'] = float(response.split('; ')[1])\n",
    "\n",
    "        if float(response.split('; ')[2]) >= 0:\n",
    "            aggregated.at[idx, 'optimistic'] = float(response.split('; ')[2])\n",
    "            aggregated.at[idx, 'pessimistic'] = 0\n",
    "        else:\n",
    "            aggregated.at[idx, 'optimistic'] = 0\n",
    "            aggregated.at[idx, 'pessimistic'] = float(response.split('; ')[2]) * -1\n",
    "\n",
    "        aggregated.at[idx, 'vagueness'] = float(response.split('; ')[3])\n",
    "        aggregated.at[idx, 'language_accessibility'] = float(response.split('; ')[4])\n",
    "        aggregated.at[idx, 'liquidity_position'] = float(response.split('; ')[5])\n",
    "        aggregated.at[idx, 'debt_leverage_stress'] = float(response.split('; ')[6])\n",
    "        aggregated.at[idx, 'operational_trends'] = float(response.split('; ')[7])\n",
    "        aggregated.at[idx, 'industry_positioning'] = float(response.split('; ')[8])\n",
    "        aggregated.at[idx, 'asset_quality'] = float(response.split('; ')[9])\n",
    "        aggregated.at[idx, 'recovery_strategies'] = float(response.split('; ')[10])\n",
    "        aggregated.at[idx, 'legal_issues'] = float(response.split('; ')[11])\n",
    "        aggregated.at[idx, 'macroeconomic'] = float(response.split('; ')[12])\n",
    "\n",
    "    except openai.error.OpenAIError as e:\n",
    "        print(f\"An exception occurred: {e}\")\n",
    "        print(\"Waiting for 1 minute before retrying...\")\n",
    "        time.sleep(60)\n"
   ]
  },
  {
   "cell_type": "code",
   "execution_count": 6,
   "metadata": {},
   "outputs": [],
   "source": [
    "llm_labels = ['negative_sentiment', 'positive_sentiment', 'uncertainty', 'optimistic', 'pessimistic', 'vagueness', 'language_accessibility',\n",
    "              'liquidity_position', 'debt_leverage_stress', 'operational_trends', 'industry_positioning', 'asset_quality', 'recovery_strategies', 'legal_issues','macroeconomic']"
   ]
  },
  {
   "cell_type": "code",
   "execution_count": null,
   "metadata": {},
   "outputs": [],
   "source": [
    "if POST:\n",
    "    bond_level = pd.read_csv('transcripts/post_credit_df.csv', delimiter='|')\n",
    "else:\n",
    "    bond_level = pd.read_csv('transcripts/credit_df.csv', delimiter='|')\n",
    "\n",
    "# merge output_df with transcripts on 'transcript_number' and index\n",
    "bond_level = pd.merge(bond_level,\n",
    "                          aggregated[llm_labels + ['call_ID']],\n",
    "                          on=['call_ID'],\n",
    "                          how='left')\n",
    "\n",
    "checkpoint = bond_level.copy()"
   ]
  },
  {
   "cell_type": "code",
   "execution_count": null,
   "metadata": {},
   "outputs": [],
   "source": [
    "# replace #DIV/0! & Nan with 0\n",
    "# Replace '#DIV/0!' with NaN\n",
    "checkpoint.replace('#DIV/0!', np.nan, inplace=True)\n",
    "checkpoint = checkpoint.fillna(0)\n",
    "\n",
    "# make sure all values are numeric except for the Date column\n",
    "checkpoint = checkpoint.apply(pd.to_numeric, errors='ignore')\n"
   ]
  },
  {
   "cell_type": "code",
   "execution_count": 9,
   "metadata": {},
   "outputs": [],
   "source": [
    "# min max scale llm_labels\n",
    "from sklearn.preprocessing import MinMaxScaler\n",
    "min_max_scaler = MinMaxScaler()\n",
    "checkpoint[llm_labels] = min_max_scaler.fit_transform(checkpoint[llm_labels])"
   ]
  },
  {
   "cell_type": "code",
   "execution_count": null,
   "metadata": {},
   "outputs": [],
   "source": [
    "# save checkpoint as csv\n",
    "if POST:\n",
    "    checkpoint.to_csv('transcripts/post_LLM_outputs_presentation.csv', index=False)\n",
    "else:\n",
    "    checkpoint.to_csv('transcripts/LLM_outputs_presentation.csv', index=False)"
   ]
  },
  {
   "cell_type": "code",
   "execution_count": 2,
   "metadata": {},
   "outputs": [],
   "source": [
    "checkpoint = pd.read_csv('transcripts/LLM_outputs_presentation.csv')"
   ]
  },
  {
   "cell_type": "code",
   "execution_count": null,
   "metadata": {},
   "outputs": [],
   "source": []
  },
  {
   "cell_type": "code",
   "execution_count": 3,
   "metadata": {},
   "outputs": [],
   "source": [
    "# List of selected supporting features\n",
    "supporting_features_1 = [\n",
    "    'CBOE DJIA Volatility Index',\n",
    "    'NASDAQ 100 Index return',\n",
    "    'Manufacturers inventories to sales ratio',\n",
    "    '30 year conventional mortgage rate',\n",
    "    'Communication Services', \n",
    "    'Consumer Discretionary', \n",
    "    'Senior secured',  \n",
    "    'Time to maturity',  \n",
    "    'Equity value',\n",
    "    'CDS availability',\n",
    "    'ActIndustryDistress1',\n",
    "    'ActIndustryDistress2',\n",
    "    'Offering amount',\n",
    "    'Volume',\n",
    "    'Industrials','Consumer Staples','Financials','Energy','Health Care','Utilities','Information Technology','Real Estate'\n",
    "]\n",
    "\n",
    "supporting_features_2 = [\n",
    "    'Default barrier',\n",
    "    'LTDIssuance2',\n",
    "    'Intangibility',\n",
    "    'Receivables1',\n",
    "]"
   ]
  },
  {
   "cell_type": "code",
   "execution_count": 12,
   "metadata": {},
   "outputs": [],
   "source": [
    "'''BOND LEVEL'''\n",
    "# Select the supporting features, nlp_lables, and RR from final_df\n",
    "final_df = checkpoint[['RR']\n",
    "                    + supporting_features_1\n",
    "                    + supporting_features_2\n",
    "                    + llm_labels \n",
    "                    ]\n",
    "\n",
    "# In-Sample-Regression\n",
    "y_train, y_test = final_df['RR'], final_df['RR']\n",
    "X_train, X_test = final_df.drop(columns=['RR']), final_df.drop(columns=['RR'])"
   ]
  },
  {
   "cell_type": "code",
   "execution_count": 13,
   "metadata": {},
   "outputs": [
    {
     "name": "stdout",
     "output_type": "stream",
     "text": [
      "                            OLS Regression Results                            \n",
      "==============================================================================\n",
      "Dep. Variable:                     RR   R-squared:                       0.716\n",
      "Model:                            OLS   Adj. R-squared:                  0.704\n",
      "Method:                 Least Squares   F-statistic:                     63.36\n",
      "Date:                Wed, 11 Dec 2024   Prob (F-statistic):          3.48e-250\n",
      "Time:                        15:24:17   Log-Likelihood:                -4346.1\n",
      "No. Observations:                1075   AIC:                             8776.\n",
      "Df Residuals:                    1033   BIC:                             8985.\n",
      "Df Model:                          41                                         \n",
      "Covariance Type:            nonrobust                                         \n",
      "============================================================================================================\n",
      "                                               coef    std err          t      P>|t|      [0.025      0.975]\n",
      "------------------------------------------------------------------------------------------------------------\n",
      "const                                       32.1622     24.814      1.296      0.195     -16.530      80.854\n",
      "CBOE DJIA Volatility Index                  -0.6057      0.104     -5.830      0.000      -0.810      -0.402\n",
      "NASDAQ 100 Index return                     69.1615     11.846      5.838      0.000      45.916      92.407\n",
      "Manufacturers inventories to sales ratio    -0.8556     16.261     -0.053      0.958     -32.765      31.053\n",
      "30 year conventional mortgage rate           3.7722      1.545      2.442      0.015       0.741       6.803\n",
      "Communication Services                      -3.4578      3.469     -0.997      0.319     -10.265       3.350\n",
      "Consumer Discretionary                      11.3195      3.161      3.581      0.000       5.117      17.522\n",
      "Senior secured                              15.6317      2.047      7.636      0.000      11.615      19.648\n",
      "Time to maturity                            -0.0009      0.000     -5.560      0.000      -0.001      -0.001\n",
      "Equity value                                -0.0005      0.000     -3.383      0.001      -0.001      -0.000\n",
      "CDS availability                             1.1650      1.600      0.728      0.467      -1.975       4.305\n",
      "ActIndustryDistress1                        -5.0137      2.842     -1.764      0.078     -10.591       0.563\n",
      "ActIndustryDistress2                        -0.4419      2.333     -0.189      0.850      -5.021       4.137\n",
      "Offering amount                          -8.582e-06   1.22e-06     -7.063      0.000    -1.1e-05    -6.2e-06\n",
      "Volume                                    1.818e-08   1.09e-09     16.680      0.000     1.6e-08    2.03e-08\n",
      "Industrials                                 17.7206      3.835      4.620      0.000      10.194      25.247\n",
      "Consumer Staples                             5.4984      5.545      0.992      0.322      -5.383      16.380\n",
      "Financials                                   6.8613      3.690      1.859      0.063      -0.380      14.103\n",
      "Energy                                      -3.3167      3.329     -0.996      0.319      -9.849       3.215\n",
      "Health Care                                 -3.5599      5.184     -0.687      0.492     -13.732       6.612\n",
      "Utilities                                   36.2641      4.490      8.076      0.000      27.453      45.075\n",
      "Information Technology                      -2.4613      3.909     -0.630      0.529     -10.132       5.209\n",
      "Real Estate                                 33.4651      6.889      4.858      0.000      19.948      46.982\n",
      "Default barrier                            -17.3929      2.455     -7.085      0.000     -22.210     -12.576\n",
      "LTDIssuance2                                 8.6262      1.813      4.758      0.000       5.069      12.184\n",
      "Intangibility                                3.6608      3.167      1.156      0.248      -2.554       9.876\n",
      "Receivables1                                11.2809      5.173      2.181      0.029       1.129      21.432\n",
      "negative_sentiment                          -3.2904      6.308     -0.522      0.602     -15.669       9.088\n",
      "positive_sentiment                         -33.3210     12.138     -2.745      0.006     -57.139      -9.503\n",
      "uncertainty                                  1.9039      6.836      0.279      0.781     -11.509      15.317\n",
      "optimistic                                  32.1510     10.419      3.086      0.002      11.706      52.596\n",
      "pessimistic                                 -4.5822      7.359     -0.623      0.534     -19.022       9.858\n",
      "vagueness                                  -39.4235      7.543     -5.227      0.000     -54.224     -24.623\n",
      "language_accessibility                      27.6868      9.416      2.940      0.003       9.210      46.163\n",
      "liquidity_position                          13.4902      5.624      2.399      0.017       2.455      24.525\n",
      "debt_leverage_stress                        14.8370      4.559      3.255      0.001       5.892      23.782\n",
      "operational_trends                          -7.4801      6.172     -1.212      0.226     -19.591       4.630\n",
      "industry_positioning                        -1.1395      6.145     -0.185      0.853     -13.197      10.918\n",
      "asset_quality                               -4.0817      6.222     -0.656      0.512     -16.291       8.128\n",
      "recovery_strategies                         -3.9149      5.761     -0.680      0.497     -15.220       7.390\n",
      "legal_issues                                32.0244      7.550      4.241      0.000      17.209      46.840\n",
      "macroeconomic                              -19.8779      8.201     -2.424      0.016     -35.971      -3.785\n",
      "==============================================================================\n",
      "Omnibus:                      135.392   Durbin-Watson:                   1.658\n",
      "Prob(Omnibus):                  0.000   Jarque-Bera (JB):              530.343\n",
      "Skew:                           0.547   Prob(JB):                    6.88e-116\n",
      "Kurtosis:                       6.262   Cond. No.                     3.67e+10\n",
      "==============================================================================\n",
      "\n",
      "Notes:\n",
      "[1] Standard Errors assume that the covariance matrix of the errors is correctly specified.\n",
      "[2] The condition number is large, 3.67e+10. This might indicate that there are\n",
      "strong multicollinearity or other numerical problems.\n",
      "Mean Squared Error: 190.16700013891497\n",
      "Root Mean Squared Error: 13.790105153294334\n",
      "R-squared: 0.7155020498783287\n"
     ]
    },
    {
     "data": {
      "image/png": "[encoded data removed]",
      "text/plain": [
       "<Figure size 720x360 with 1 Axes>"
      ]
     },
     "metadata": {
      "needs_background": "light"
     },
     "output_type": "display_data"
    }
   ],
   "source": [
    "# LLM features QnA\n",
    "\n",
    "X_train = sm.add_constant(X_train)\n",
    "X_test = sm.add_constant(X_test)\n",
    "\n",
    "# Fit the model\n",
    "model = sm.OLS(y_train, X_train).fit()\n",
    "\n",
    "# Print the summary of the model which includes p-values and significance levels\n",
    "print(model.summary())\n",
    "\n",
    "# Make predictions\n",
    "y_pred = model.predict(X_test)\n",
    "\n",
    "# Compute and print evaluation metrics\n",
    "mse = mean_squared_error(y_test, y_pred)\n",
    "r2 = r2_score(y_test, y_pred)\n",
    "print(f\"Mean Squared Error: {mse}\")\n",
    "print(f\"Root Mean Squared Error: {np.sqrt(mse)}\")\n",
    "print(f\"R-squared: {r2}\")\n",
    "\n",
    "# other metric\n",
    "# Calculate the residuals\n",
    "residuals = y_test - y_pred\n",
    "\n",
    "# Plot the residuals\n",
    "plt.figure(figsize=(10, 5))\n",
    "plt.scatter(y_test, residuals)\n",
    "plt.axhline(y=0, color='r', linestyle='--')\n",
    "plt.xlabel('Recovery Rate')\n",
    "plt.ylabel('Residuals')\n",
    "\n",
    "# Display the plot\n",
    "plt.show()"
   ]
  },
  {
   "cell_type": "code",
   "execution_count": null,
   "metadata": {},
   "outputs": [],
   "source": [
    "# Compute variance inflation factor \n",
    "vif = pd.DataFrame()\n",
    "vif[\"Features\"] = X_train.columns\n",
    "vif[\"VIF\"] = [variance_inflation_factor(X_train.values, i) for i in range(X_train.shape[1])]\n",
    "vif = vif.sort_values(by='VIF', ascending=False)\n",
    "\n",
    "# Display the VIF\n",
    "print(vif)"
   ]
  },
  {
   "cell_type": "code",
   "execution_count": null,
   "metadata": {},
   "outputs": [],
   "source": [
    "# select significant features\n",
    "model.significance = model.pvalues[model.pvalues < 0.05].index\n",
    "\n",
    "# build a graph to show the importance of each feature\n",
    "importances = model.params[1:]\n",
    "importances = importances.sort_values()\n",
    "\n",
    "# Sort the importance values based on absolute values, not just positive or negative\n",
    "top_10_importances = importances.abs().sort_values(ascending=False).head(10)\n",
    "\n",
    "# reduce importances to only the top 10\n",
    "importances = importances[top_10_importances.index]\n",
    "importances = importances.sort_values()\n",
    "\n",
    "# color significant features 0/150/130 and others in grey\n",
    "colors = ['#009682' if feature in model.significance else 'grey' for feature in importances.index]\n",
    "\n",
    "plt.figure(figsize=(10, 5))\n",
    "plt.barh(importances.index, importances.values, color=colors)\n",
    "# Create a custom legend\n",
    "handles = [plt.Rectangle((0, 0), 1, 1, color='#009682'), plt.Rectangle((0, 0), 1, 1, color='grey')]\n",
    "labels = ['Significant', 'Not Significant']\n",
    "plt.legend(handles, labels)\n",
    "plt.xlabel('Impact')\n",
    "plt.ylabel('Features')\n",
    "plt.title('Features Impact on Recovery Rate')\n",
    "plt.show()"
   ]
  },
  {
   "cell_type": "code",
   "execution_count": null,
   "metadata": {},
   "outputs": [],
   "source": []
  }
 ],
 "metadata": {
  "kernelspec": {
   "display_name": "aiss",
   "language": "python",
   "name": "aiss"
  },
  "language_info": {
   "codemirror_mode": {
    "name": "ipython",
    "version": 3
   },
   "file_extension": ".py",
   "mimetype": "text/x-python",
   "name": "python",
   "nbconvert_exporter": "python",
   "pygments_lexer": "ipython3",
   "version": "3.8.12"
  }
 },
 "nbformat": 4,
 "nbformat_minor": 2
}
