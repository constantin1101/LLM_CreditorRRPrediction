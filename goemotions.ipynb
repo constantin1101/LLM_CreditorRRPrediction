{
 "cells": [
  {
   "cell_type": "code",
   "execution_count": 6,
   "metadata": {},
   "outputs": [
    {
     "name": "stderr",
     "output_type": "stream",
     "text": [
      "[nltk_data] Downloading package punkt to\n",
      "[nltk_data]     /Users/constantinernstberger/nltk_data...\n",
      "[nltk_data]   Package punkt is already up-to-date!\n"
     ]
    }
   ],
   "source": [
    "import pandas as pd\n",
    "import statsmodels.api as sm\n",
    "import matplotlib.pyplot as plt\n",
    "from sklearn.metrics import r2_score\n",
    "import statsmodels.api as sm\n",
    "from statsmodels.stats.outliers_influence import variance_inflation_factor\n",
    "from sklearn.preprocessing import MinMaxScaler\n",
    "import ast\n",
    "import nltk\n",
    "nltk.download('punkt')\n",
    "\n",
    "from source.models import *\n",
    "from source.preprocessing import *\n",
    "from source.variables import *\n",
    "from source.helpers import *"
   ]
  },
  {
   "cell_type": "code",
   "execution_count": 31,
   "metadata": {},
   "outputs": [],
   "source": [
    "PART = \"presentation_summary\"\n",
    "#PART = \"qna_summary\"\n",
    "\n",
    "# Initialize columns for each emotion\n",
    "ORIGINAL = True\n",
    "\n",
    "df = pd.read_csv(\"transcripts/credit_df.csv\", delimiter=\"|\")\n",
    "\n",
    "if ORIGINAL:\n",
    "    emotions = [\n",
    "        'admiration', \n",
    "        #'amusement', \n",
    "        'anger', \n",
    "        'annoyance', \n",
    "        'approval', \n",
    "        'caring', \n",
    "        'confusion', \n",
    "        'curiosity', \n",
    "        'desire',\n",
    "        'disappointment', \n",
    "        'disapproval', \n",
    "        #'disgust', \n",
    "        'embarrassment', \n",
    "        'excitement', \n",
    "        'fear', \n",
    "        'gratitude', \n",
    "        #'grief',\n",
    "        'joy', \n",
    "        #'love', \n",
    "        'nervousness', \n",
    "        'optimism', \n",
    "        'pride', \n",
    "        'realization', \n",
    "        'relief', \n",
    "        'remorse', \n",
    "        'sadness', \n",
    "        'surprise'\n",
    "    ]\n",
    "else:\n",
    "    emotions = ['positive', 'negative', 'ambiguous']"
   ]
  },
  {
   "cell_type": "code",
   "execution_count": 32,
   "metadata": {},
   "outputs": [
    {
     "data": {
      "text/plain": [
       "'\\nfrom transformers import BertTokenizer\\nfrom model import BertForMultiLabelClassification\\nfrom multilabel_pipeline import MultiLabelPipeline\\n\\noriginal = True\\n\\nif original:\\n  tokenizer = BertTokenizer.from_pretrained(\"monologg/bert-base-cased-goemotions-original\")\\n  model = BertForMultiLabelClassification.from_pretrained(\"monologg/bert-base-cased-goemotions-original\")\\nelse:\\n  tokenizer = BertTokenizer.from_pretrained(\"monologg/bert-base-cased-goemotions-group\")\\n  model = BertForMultiLabelClassification.from_pretrained(\"monologg/bert-base-cased-goemotions-group\")\\n\\ngoemotions = MultiLabelPipeline(\\n    model=model,\\n    tokenizer=tokenizer,\\n    threshold=0.3\\n)\\n\\ndf[f\\'{PART}_scores\\'] = None\\n\\n# Process each earnings call\\nfor idx, transcript in enumerate(df[PART]):\\n  try:\\n    call = nltk.sent_tokenize(transcript)  # Tokenize sentences from the cleaned text\\n    scores = goemotions(call)  # Assuming `goemotions` processes the sentences and returns emotion scores\\n    df.at[idx, f\\'{PART}_scores\\'] = scores\\n    print(idx)\\n  except:\\n    df.at[idx, f\\'{PART}_scores\\'] = []\\n    print(idx)\\n\\ndf.to_csv(f\\'goemotions/emotion_scores_{PART}.csv\\', sep=\\'|\\')\\n'"
      ]
     },
     "execution_count": 32,
     "metadata": {},
     "output_type": "execute_result"
    }
   ],
   "source": [
    "'''Follow intructions on https://github.com/monologg/GoEmotions-pytorch to download the model and tokenizer'''\n",
    "\n",
    "'''\n",
    "from transformers import BertTokenizer\n",
    "from model import BertForMultiLabelClassification\n",
    "from multilabel_pipeline import MultiLabelPipeline\n",
    "\n",
    "original = True\n",
    "\n",
    "if original:\n",
    "  tokenizer = BertTokenizer.from_pretrained(\"monologg/bert-base-cased-goemotions-original\")\n",
    "  model = BertForMultiLabelClassification.from_pretrained(\"monologg/bert-base-cased-goemotions-original\")\n",
    "else:\n",
    "  tokenizer = BertTokenizer.from_pretrained(\"monologg/bert-base-cased-goemotions-group\")\n",
    "  model = BertForMultiLabelClassification.from_pretrained(\"monologg/bert-base-cased-goemotions-group\")\n",
    "\n",
    "goemotions = MultiLabelPipeline(\n",
    "    model=model,\n",
    "    tokenizer=tokenizer,\n",
    "    threshold=0.3\n",
    ")\n",
    "\n",
    "df[f'{PART}_scores'] = None\n",
    "\n",
    "# Process each earnings call\n",
    "for idx, transcript in enumerate(df[PART]):\n",
    "  try:\n",
    "    call = nltk.sent_tokenize(transcript)  # Tokenize sentences from the cleaned text\n",
    "    scores = goemotions(call)  # Assuming `goemotions` processes the sentences and returns emotion scores\n",
    "    df.at[idx, f'{PART}_scores'] = scores\n",
    "    print(idx)\n",
    "  except:\n",
    "    df.at[idx, f'{PART}_scores'] = []\n",
    "    print(idx)\n",
    "\n",
    "df.to_csv(f'goemotions/emotion_scores_{PART}.csv', sep='|')\n",
    "'''"
   ]
  },
  {
   "cell_type": "code",
   "execution_count": 33,
   "metadata": {},
   "outputs": [
    {
     "data": {
      "text/html": [
       "<div>\n",
       "<style scoped>\n",
       "    .dataframe tbody tr th:only-of-type {\n",
       "        vertical-align: middle;\n",
       "    }\n",
       "\n",
       "    .dataframe tbody tr th {\n",
       "        vertical-align: top;\n",
       "    }\n",
       "\n",
       "    .dataframe thead th {\n",
       "        text-align: right;\n",
       "    }\n",
       "</style>\n",
       "<table border=\"1\" class=\"dataframe\">\n",
       "  <thead>\n",
       "    <tr style=\"text-align: right;\">\n",
       "      <th></th>\n",
       "      <th>call_ID</th>\n",
       "      <th>aggregated_RR</th>\n",
       "      <th>presentation</th>\n",
       "      <th>QnA</th>\n",
       "      <th>presentation_summary</th>\n",
       "      <th>presentation_summary_scores</th>\n",
       "    </tr>\n",
       "  </thead>\n",
       "  <tbody>\n",
       "    <tr>\n",
       "      <th>0</th>\n",
       "      <td>0</td>\n",
       "      <td>29.023972</td>\n",
       "      <td>Presentation\\nOperator\\nGood morning Ladies an...</td>\n",
       "      <td>Question and Answer\\nOperator\\n[Operator Instr...</td>\n",
       "      <td>Good morning everyone. I will begin my remarks...</td>\n",
       "      <td>[{'labels': ['neutral'], 'scores': [0.99079496...</td>\n",
       "    </tr>\n",
       "    <tr>\n",
       "      <th>1</th>\n",
       "      <td>1</td>\n",
       "      <td>8.869420</td>\n",
       "      <td>Presentation\\nOperator\\nLadies and gentlemen, ...</td>\n",
       "      <td>Question and Answer\\nOperator\\n(Operator Instr...</td>\n",
       "      <td>Thank you, operator. As you can tell, we have ...</td>\n",
       "      <td>[{'labels': ['gratitude'], 'scores': [0.996631...</td>\n",
       "    </tr>\n",
       "    <tr>\n",
       "      <th>2</th>\n",
       "      <td>2</td>\n",
       "      <td>33.210455</td>\n",
       "      <td>Presentation\\nOperator\\nGreetings ladies and g...</td>\n",
       "      <td>Question and Answer\\nOperator\\nThank you. Ladi...</td>\n",
       "      <td>During the quarter, our unrestricted cash bala...</td>\n",
       "      <td>[{'labels': ['neutral'], 'scores': [0.97970974...</td>\n",
       "    </tr>\n",
       "    <tr>\n",
       "      <th>3</th>\n",
       "      <td>3</td>\n",
       "      <td>11.875000</td>\n",
       "      <td>Presentation\\nOperator\\nThank you, all parties...</td>\n",
       "      <td>Question and Answer\\nOperator\\n[Operator Instr...</td>\n",
       "      <td>We finished the quarter at a debt level of jus...</td>\n",
       "      <td>[{'labels': ['realization', 'neutral'], 'score...</td>\n",
       "    </tr>\n",
       "    <tr>\n",
       "      <th>4</th>\n",
       "      <td>4</td>\n",
       "      <td>18.340000</td>\n",
       "      <td>Presentation\\nOperator\\nThank you for joining ...</td>\n",
       "      <td>Question and Answer\\nOperator\\n(Operator Instr...</td>\n",
       "      <td>Interest expense increased $6.6 million due to...</td>\n",
       "      <td>[{'labels': ['neutral'], 'scores': [0.99706775...</td>\n",
       "    </tr>\n",
       "  </tbody>\n",
       "</table>\n",
       "</div>"
      ],
      "text/plain": [
       "   call_ID  aggregated_RR                                       presentation  \\\n",
       "0        0      29.023972  Presentation\\nOperator\\nGood morning Ladies an...   \n",
       "1        1       8.869420  Presentation\\nOperator\\nLadies and gentlemen, ...   \n",
       "2        2      33.210455  Presentation\\nOperator\\nGreetings ladies and g...   \n",
       "3        3      11.875000  Presentation\\nOperator\\nThank you, all parties...   \n",
       "4        4      18.340000  Presentation\\nOperator\\nThank you for joining ...   \n",
       "\n",
       "                                                 QnA  \\\n",
       "0  Question and Answer\\nOperator\\n[Operator Instr...   \n",
       "1  Question and Answer\\nOperator\\n(Operator Instr...   \n",
       "2  Question and Answer\\nOperator\\nThank you. Ladi...   \n",
       "3  Question and Answer\\nOperator\\n[Operator Instr...   \n",
       "4  Question and Answer\\nOperator\\n(Operator Instr...   \n",
       "\n",
       "                                presentation_summary  \\\n",
       "0  Good morning everyone. I will begin my remarks...   \n",
       "1  Thank you, operator. As you can tell, we have ...   \n",
       "2  During the quarter, our unrestricted cash bala...   \n",
       "3  We finished the quarter at a debt level of jus...   \n",
       "4  Interest expense increased $6.6 million due to...   \n",
       "\n",
       "                         presentation_summary_scores  \n",
       "0  [{'labels': ['neutral'], 'scores': [0.99079496...  \n",
       "1  [{'labels': ['gratitude'], 'scores': [0.996631...  \n",
       "2  [{'labels': ['neutral'], 'scores': [0.97970974...  \n",
       "3  [{'labels': ['realization', 'neutral'], 'score...  \n",
       "4  [{'labels': ['neutral'], 'scores': [0.99706775...  "
      ]
     },
     "execution_count": 33,
     "metadata": {},
     "output_type": "execute_result"
    }
   ],
   "source": [
    "scores = pd.read_csv(f'goemotions/emotion_scores_{PART}.csv', delimiter='|')\n",
    "\n",
    "# Convert strings in 'presentation_summary_scores' to actual lists\n",
    "scores[f'{PART}_scores'] = scores[f'{PART}_scores'].apply(ast.literal_eval)\n",
    "\n",
    "scores.head()"
   ]
  },
  {
   "cell_type": "code",
   "execution_count": 34,
   "metadata": {},
   "outputs": [],
   "source": [
    "# Initialize columns for each emotion in the DataFrame\n",
    "for emotion in emotions:\n",
    "    scores[emotion] = 0.0\n",
    "\n",
    "# Process each transcript's scores and calculate the emotion features\n",
    "for idx, row in scores.iterrows():\n",
    "    # Initialize a dictionary to hold total emotion scores\n",
    "    emotion_scores = {emotion: 0.0 for emotion in emotions}\n",
    "    \n",
    "    # Get the list of sentence scores\n",
    "    sentence_scores = row[f'{PART}_scores']\n",
    "    sentence_count = len(sentence_scores)\n",
    "    \n",
    "    # Accumulate scores for each emotion\n",
    "    for entry in sentence_scores:\n",
    "        for label, score in zip(entry['labels'], entry['scores']):\n",
    "            if label in emotion_scores:\n",
    "                emotion_scores[label] += score\n",
    "\n",
    "    # Normalize the scores by the number of sentences (average per sentence)\n",
    "    for emotion, total_score in emotion_scores.items():\n",
    "        scores.at[idx, emotion] = total_score / sentence_count if sentence_count > 0 else 0.0"
   ]
  },
  {
   "cell_type": "code",
   "execution_count": 35,
   "metadata": {},
   "outputs": [],
   "source": [
    "bond_level = pd.read_csv('transcripts/credit_df.csv', delimiter='|')  \n",
    "\n",
    "# merge output_df with transcripts on 'transcript_number' and index\n",
    "bond_level = pd.merge(bond_level,\n",
    "                          scores[emotions + ['call_ID']],\n",
    "                          on=['call_ID'],\n",
    "                          how='left')\n",
    "\n",
    "# normalize all emotion columns\n",
    "scaler = MinMaxScaler()\n",
    "bond_level[emotions] = scaler.fit_transform(bond_level[emotions])\n",
    "\n",
    "checkpoint = bond_level.copy()"
   ]
  },
  {
   "cell_type": "code",
   "execution_count": 36,
   "metadata": {},
   "outputs": [],
   "source": [
    "checkpoint.to_csv(f'goemotions/{PART}_final.csv', sep='|')"
   ]
  },
  {
   "cell_type": "code",
   "execution_count": 37,
   "metadata": {},
   "outputs": [
    {
     "name": "stderr",
     "output_type": "stream",
     "text": [
      "/Users/constantinernstberger/opt/anaconda3/envs/aiss/lib/python3.8/site-packages/pandas/core/frame.py:5238: SettingWithCopyWarning: \n",
      "A value is trying to be set on a copy of a slice from a DataFrame\n",
      "\n",
      "See the caveats in the documentation: https://pandas.pydata.org/pandas-docs/stable/user_guide/indexing.html#returning-a-view-versus-a-copy\n",
      "  return super().replace(\n"
     ]
    }
   ],
   "source": [
    "supporting_features_1 = [\n",
    "    'CBOE DJIA Volatility Index',\n",
    "    'NASDAQ 100 Index return',\n",
    "    'Manufacturers inventories to sales ratio',\n",
    "    '30 year conventional mortgage rate',\n",
    "    'Communication Services', \n",
    "    'Consumer Discretionary', \n",
    "    'Senior secured',  \n",
    "    'Time to maturity',  \n",
    "    'Equity value',\n",
    "    'CDS availability',\n",
    "    'ActIndustryDistress1',\n",
    "    'ActIndustryDistress2',\n",
    "    'Offering amount',\n",
    "    'Volume',\n",
    "    'Industrials','Consumer Staples','Financials','Energy','Health Care','Utilities','Information Technology','Real Estate'\n",
    "]\n",
    "\n",
    "supporting_features_2 = [\n",
    "    'Default barrier',\n",
    "    'LTDIssuance2',\n",
    "    'Intangibility',\n",
    "    'Receivables1',\n",
    "]\n",
    "\n",
    "# Select the supporting features, nlp_lables, and RR from final_df\n",
    "final_df = checkpoint[['RR']\n",
    "                    #+ supporting_features_1\n",
    "                    #+ supporting_features_2\n",
    "                    + emotions\n",
    "                    ]\n",
    "\n",
    "# replace #DIV/0! & Nan with 0\n",
    "# Replace '#DIV/0!' with NaN\n",
    "final_df.replace('#DIV/0!', np.nan, inplace=True)\n",
    "final_df = final_df.fillna(0)\n",
    "\n",
    "# make sure all values are numeric except for the Date column\n",
    "final_df = final_df.apply(pd.to_numeric, errors='ignore')"
   ]
  },
  {
   "cell_type": "code",
   "execution_count": 38,
   "metadata": {},
   "outputs": [],
   "source": [
    "# In-Sample-Regression\n",
    "y_train, y_test = final_df['RR'], final_df['RR']\n",
    "X_train, X_test = final_df.drop(columns=['RR']), final_df.drop(columns=['RR'])"
   ]
  },
  {
   "cell_type": "code",
   "execution_count": 39,
   "metadata": {},
   "outputs": [
    {
     "name": "stdout",
     "output_type": "stream",
     "text": [
      "                            OLS Regression Results                            \n",
      "==============================================================================\n",
      "Dep. Variable:                     RR   R-squared:                       0.295\n",
      "Model:                            OLS   Adj. R-squared:                  0.282\n",
      "Method:                 Least Squares   F-statistic:                     22.05\n",
      "Date:                Sat, 12 Oct 2024   Prob (F-statistic):           1.65e-66\n",
      "Time:                        12:13:55   Log-Likelihood:                -4833.9\n",
      "No. Observations:                1075   AIC:                             9710.\n",
      "Df Residuals:                    1054   BIC:                             9814.\n",
      "Df Model:                          20                                         \n",
      "Covariance Type:            nonrobust                                         \n",
      "==================================================================================\n",
      "                     coef    std err          t      P>|t|      [0.025      0.975]\n",
      "----------------------------------------------------------------------------------\n",
      "const             25.8220      2.300     11.226      0.000      21.309      30.335\n",
      "admiration         6.0390      5.900      1.024      0.306      -5.538      17.616\n",
      "anger             16.6823      8.127      2.053      0.040       0.736      32.629\n",
      "annoyance         -1.6035      9.398     -0.171      0.865     -20.044      16.836\n",
      "approval         -48.3739      9.413     -5.139      0.000     -66.844     -29.903\n",
      "caring             9.8993      8.259      1.199      0.231      -6.307      26.106\n",
      "confusion        -12.6440     12.830     -0.986      0.325     -37.819      12.531\n",
      "curiosity          9.1306      4.991      1.829      0.068      -0.663      18.924\n",
      "desire            24.2829      8.656      2.805      0.005       7.297      41.268\n",
      "disappointment   -28.9332      9.450     -3.062      0.002     -47.477     -10.390\n",
      "disapproval        6.0877      6.898      0.883      0.378      -7.448      19.623\n",
      "embarrassment  -7.602e-15   3.17e-15     -2.400      0.017   -1.38e-14   -1.39e-15\n",
      "excitement        12.7753      7.803      1.637      0.102      -2.536      28.086\n",
      "fear            1.458e-14    3.9e-15      3.741      0.000    6.93e-15    2.22e-14\n",
      "gratitude         67.2328      7.437      9.040      0.000      52.639      81.826\n",
      "joy               11.4795      7.915      1.450      0.147      -4.052      27.011\n",
      "nervousness    -8.306e-16   2.21e-15     -0.376      0.707   -5.16e-15     3.5e-15\n",
      "optimism          29.6979      6.637      4.475      0.000      16.676      42.720\n",
      "pride             31.4495     10.826      2.905      0.004      10.206      52.693\n",
      "realization       20.4722      7.895      2.593      0.010       4.980      35.964\n",
      "relief            18.8519      7.086      2.661      0.008       4.948      32.756\n",
      "remorse           41.1715     13.015      3.163      0.002      15.633      66.710\n",
      "sadness          -11.8148      6.540     -1.807      0.071     -24.647       1.017\n",
      "surprise         -18.0580      8.568     -2.108      0.035     -34.871      -1.245\n",
      "==============================================================================\n",
      "Omnibus:                      252.281   Durbin-Watson:                   1.152\n",
      "Prob(Omnibus):                  0.000   Jarque-Bera (JB):              568.954\n",
      "Skew:                           1.283   Prob(JB):                    2.84e-124\n",
      "Kurtosis:                       5.474   Cond. No.                     2.27e+17\n",
      "==============================================================================\n",
      "\n",
      "Notes:\n",
      "[1] Standard Errors assume that the covariance matrix of the errors is correctly specified.\n",
      "[2] The smallest eigenvalue is 2.42e-32. This might indicate that there are\n",
      "strong multicollinearity problems or that the design matrix is singular.\n",
      "Mean Squared Error: 471.24893344614566\n",
      "Root Mean Squared Error: 21.70826878049343\n",
      "R-squared: 0.2949914787291372\n"
     ]
    },
    {
     "data": {
      "image/png": "[encoded data removed]",
      "text/plain": [
       "<Figure size 720x360 with 1 Axes>"
      ]
     },
     "metadata": {
      "needs_background": "light"
     },
     "output_type": "display_data"
    }
   ],
   "source": [
    "# Bond data 1 + LLM features\n",
    "\n",
    "X_train = sm.add_constant(X_train)\n",
    "X_test = sm.add_constant(X_test)\n",
    "\n",
    "# Fit the model\n",
    "model = sm.OLS(y_train, X_train).fit()\n",
    "\n",
    "# Print the summary of the model which includes p-values and significance levels\n",
    "print(model.summary())\n",
    "\n",
    "# Make predictions\n",
    "y_pred = model.predict(X_test)\n",
    "\n",
    "# Compute and print evaluation metrics\n",
    "mse = mean_squared_error(y_test, y_pred)\n",
    "r2 = r2_score(y_test, y_pred)\n",
    "print(f\"Mean Squared Error: {mse}\")\n",
    "print(f\"Root Mean Squared Error: {np.sqrt(mse)}\")\n",
    "print(f\"R-squared: {r2}\")\n",
    "\n",
    "# other metric\n",
    "# Calculate the residuals\n",
    "residuals = y_test - y_pred\n",
    "\n",
    "# Plot the residuals\n",
    "plt.figure(figsize=(10, 5))\n",
    "plt.scatter(y_test, residuals)\n",
    "plt.axhline(y=0, color='r', linestyle='--')\n",
    "plt.xlabel('Recovery Rate')\n",
    "plt.ylabel('Residuals')\n",
    "\n",
    "# Display the plot\n",
    "plt.show()"
   ]
  },
  {
   "cell_type": "code",
   "execution_count": 40,
   "metadata": {},
   "outputs": [
    {
     "name": "stdout",
     "output_type": "stream",
     "text": [
      "          Features        VIF\n",
      "0            const  11.833100\n",
      "5           caring   2.410719\n",
      "15             joy   2.388900\n",
      "10     disapproval   1.872363\n",
      "9   disappointment   1.848658\n",
      "19     realization   1.844122\n",
      "18           pride   1.681927\n",
      "20          relief   1.625123\n",
      "17        optimism   1.579684\n",
      "3        annoyance   1.494598\n",
      "1       admiration   1.470926\n",
      "22         sadness   1.445485\n",
      "8           desire   1.401985\n",
      "4         approval   1.303787\n",
      "12      excitement   1.257676\n",
      "14       gratitude   1.229683\n",
      "2            anger   1.219535\n",
      "6        confusion   1.198545\n",
      "7        curiosity   1.168814\n",
      "23        surprise   1.117493\n",
      "21         remorse   1.030733\n",
      "11   embarrassment        NaN\n",
      "13            fear        NaN\n",
      "16     nervousness        NaN\n"
     ]
    },
    {
     "name": "stderr",
     "output_type": "stream",
     "text": [
      "/Users/constantinernstberger/opt/anaconda3/envs/aiss/lib/python3.8/site-packages/statsmodels/regression/linear_model.py:1781: RuntimeWarning: invalid value encountered in scalar divide\n",
      "  return 1 - self.ssr/self.centered_tss\n"
     ]
    }
   ],
   "source": [
    "# Compute variance inflation factor \n",
    "vif = pd.DataFrame()\n",
    "vif[\"Features\"] = X_train.columns\n",
    "vif[\"VIF\"] = [variance_inflation_factor(X_train.values, i) for i in range(X_train.shape[1])]\n",
    "vif = vif.sort_values(by='VIF', ascending=False)\n",
    "\n",
    "# Display the VIF\n",
    "print(vif)"
   ]
  },
  {
   "cell_type": "code",
   "execution_count": 41,
   "metadata": {},
   "outputs": [
    {
     "data": {
      "image/png": "[encoded data removed]",
      "text/plain": [
       "<Figure size 720x360 with 1 Axes>"
      ]
     },
     "metadata": {
      "needs_background": "light"
     },
     "output_type": "display_data"
    }
   ],
   "source": [
    "# select significant features\n",
    "model.significance = model.pvalues[model.pvalues < 0.05].index\n",
    "\n",
    "# build a graph to show the importance of each feature\n",
    "importances = model.params[1:]\n",
    "importances = importances.sort_values()\n",
    "\n",
    "# Sort the importance values based on absolute values, not just positive or negative\n",
    "top_10_importances = importances.abs().sort_values(ascending=False).head(15)\n",
    "\n",
    "# reduce importances to only the top 10\n",
    "importances = importances[top_10_importances.index]\n",
    "importances = importances.sort_values()\n",
    "\n",
    "# color significant features 0/150/130 and others in grey\n",
    "colors = ['#009682' if feature in model.significance else 'grey' for feature in importances.index]\n",
    "\n",
    "plt.figure(figsize=(10, 5))\n",
    "plt.barh(importances.index, importances.values, color=colors)\n",
    "# add legend\n",
    "plt.legend(['Significant', 'Not Significant'])\n",
    "plt.xlabel('Impact')\n",
    "plt.ylabel('Features')\n",
    "plt.title('Feature Impact on Recovery Rate')\n",
    "plt.show()"
   ]
  },
  {
   "cell_type": "code",
   "execution_count": 46,
   "metadata": {},
   "outputs": [
    {
     "data": {
      "image/png": "[encoded data removed]",
      "text/plain": [
       "<Figure size 720x360 with 1 Axes>"
      ]
     },
     "metadata": {
      "needs_background": "light"
     },
     "output_type": "display_data"
    }
   ],
   "source": [
    "import matplotlib.patches as mpatches\n",
    "\n",
    "# Filter significant features\n",
    "significant_features = model.pvalues[model.pvalues < 0.05].index\n",
    "importances = model.params[significant_features]  # Only significant features\n",
    "importances = importances[1:]\n",
    "\n",
    "# Sort importances by their absolute value, and select the top 10\n",
    "top_10_importances = importances.abs().sort_values(ascending=False).head(11)\n",
    "importances = importances[top_10_importances.index]\n",
    "importances = importances.sort_values()  # Sort the values for better visualization\n",
    "\n",
    "# Define emotion types (assuming the feature names match these emotion labels)\n",
    "emotion_types = {\n",
    "    'relief': 'positive',\n",
    "    'remorse': 'negative',\n",
    "    'nervousness': 'negative',\n",
    "    'desire': 'positive',\n",
    "    'fear': 'strong_negative',\n",
    "    'excitement': 'positive',\n",
    "    'confusion': 'negative',\n",
    "    'pride': 'positive',\n",
    "    'annoyance': 'negative',\n",
    "    'gratitude': 'positive',\n",
    "    'anger': 'strong_negative',\n",
    "    'optimism': 'positive',\n",
    "    'sadness': 'negative', \n",
    "    'approval': 'positive',\n",
    "    'caring': 'positive',\n",
    "    'disappointment': 'negative',\n",
    "    'curiosity': 'positive',\n",
    "    'surprise': 'positive',\n",
    "    'admiration': 'positive',\n",
    "    'embarrassment': 'negative',\n",
    "    'realization': 'positive',\n",
    "    'disapproval': 'negative',\n",
    "    'joy': 'positive'\n",
    "}\n",
    "\n",
    "# Map colors to each emotion type\n",
    "color_mapping = {\n",
    "    'positive': 'green',\n",
    "    'strong_negative': 'red',\n",
    "    'negative': 'gray',\n",
    "    'neutral': 'blue'\n",
    "}\n",
    "\n",
    "# Apply the color mapping to the top 10 significant features\n",
    "colors = [color_mapping[emotion_types[emotion]] for emotion in importances.index]\n",
    "\n",
    "# Create a horizontal bar plot for the top 10 significant features\n",
    "plt.figure(figsize=(10, 5))\n",
    "plt.barh(importances.index, importances.values, color=colors)\n",
    "\n",
    "# Add labels and title\n",
    "plt.xlabel('Importance')\n",
    "plt.ylabel('Features')\n",
    "plt.title('Remaining Significant Features and their Impact')\n",
    "\n",
    "# Add a legend to the top left corner\n",
    "handles = [mpatches.Patch(color=color_mapping[emotion], label=emotion) for emotion in color_mapping]\n",
    "plt.legend(handles=handles, loc='upper left')\n",
    "\n",
    "# Show the plot\n",
    "plt.show()"
   ]
  },
  {
   "cell_type": "code",
   "execution_count": 19,
   "metadata": {},
   "outputs": [],
   "source": []
  },
  {
   "cell_type": "code",
   "execution_count": 20,
   "metadata": {},
   "outputs": [
    {
     "data": {
      "text/plain": [
       "const             18.795149\n",
       "admiration        31.405640\n",
       "anger             23.684056\n",
       "confusion        -27.104458\n",
       "curiosity         13.221288\n",
       "disappointment    26.502854\n",
       "disapproval       14.015625\n",
       "excitement        31.122598\n",
       "gratitude        -58.730893\n",
       "optimism          20.941488\n",
       "remorse          -65.200008\n",
       "sadness          -38.323284\n",
       "surprise          19.893524\n",
       "dtype: float64"
      ]
     },
     "execution_count": 20,
     "metadata": {},
     "output_type": "execute_result"
    }
   ],
   "source": [
    "importances"
   ]
  }
 ],
 "metadata": {
  "kernelspec": {
   "display_name": "aiss",
   "language": "python",
   "name": "aiss"
  },
  "language_info": {
   "codemirror_mode": {
    "name": "ipython",
    "version": 3
   },
   "file_extension": ".py",
   "mimetype": "text/x-python",
   "name": "python",
   "nbconvert_exporter": "python",
   "pygments_lexer": "ipython3",
   "version": "3.8.12"
  }
 },
 "nbformat": 4,
 "nbformat_minor": 2
}
