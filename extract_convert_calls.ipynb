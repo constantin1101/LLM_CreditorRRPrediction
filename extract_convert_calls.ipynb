{
 "cells": [
  {
   "cell_type": "code",
   "execution_count": 2,
   "metadata": {},
   "outputs": [],
   "source": [
    "import PyPDF2\n",
    "import os\n",
    "import pandas as pd\n",
    "import re\n",
    "\n",
    "def extract_presentation_text(pdf_path):\n",
    "    with open(pdf_path, 'rb') as file:\n",
    "        reader = PyPDF2.PdfReader(file)\n",
    "        num_pages = len(reader.pages)\n",
    "        presentation_text = \"\"\n",
    "        in_presentation_section = False\n",
    "        found_first_presentation = False\n",
    "\n",
    "        for i in range(num_pages):\n",
    "            page = reader.pages[i]\n",
    "            text = page.extract_text()\n",
    "\n",
    "            # Check if we are in the Presentation section\n",
    "            if \"Presentation\" in text and not found_first_presentation:\n",
    "                found_first_presentation = True\n",
    "                continue\n",
    "\n",
    "            if \"Presentation\" in text and found_first_presentation:\n",
    "                in_presentation_section = True\n",
    "\n",
    "            if in_presentation_section:\n",
    "                presentation_text += text\n",
    "                \n",
    "                # Check if we have reached the end of the Presentation section\n",
    "                if \"Question and Answer\" in text:\n",
    "                    break\n",
    "\n",
    "        # Clean up the text\n",
    "        start_idx = presentation_text.find(\"Presentation\")\n",
    "        end_idx = presentation_text.find(\"Question and Answer\")\n",
    "        presentation_text = presentation_text[start_idx:end_idx].strip()\n",
    "\n",
    "        return presentation_text"
   ]
  },
  {
   "cell_type": "code",
   "execution_count": 22,
   "metadata": {},
   "outputs": [],
   "source": [
    "def extract_qna_text(pdf_path):\n",
    "    with open(pdf_path, 'rb') as file:\n",
    "        reader = PyPDF2.PdfReader(file)\n",
    "        num_pages = len(reader.pages)\n",
    "        presentation_text = \"\"\n",
    "        in_presentation_section = False\n",
    "        found_first_presentation = False\n",
    "\n",
    "        for i in range(num_pages):\n",
    "            page = reader.pages[i]\n",
    "            text = page.extract_text()\n",
    "\n",
    "            # Check if we are in the Presentation section\n",
    "            if \"Question and Answer\" in text and not found_first_presentation:\n",
    "                found_first_presentation = True\n",
    "                continue\n",
    "\n",
    "            if \"Question and Answer\" in text and found_first_presentation:\n",
    "                in_presentation_section = True\n",
    "\n",
    "            if in_presentation_section:\n",
    "                presentation_text += text\n",
    "                \n",
    "                # Check if we have reached the end of the Presentation section\n",
    "                if \"These materials have been prepared solely for information purposes\" in text:\n",
    "                    break\n",
    "\n",
    "        # Clean up the text\n",
    "        start_idx = presentation_text.find(\"Question and Answer\")\n",
    "        end_idx = presentation_text.find(\"These materials have been prepared solely for information purposes\")\n",
    "        presentation_text = presentation_text[start_idx:end_idx].strip()\n",
    "\n",
    "        return presentation_text"
   ]
  },
  {
   "cell_type": "code",
   "execution_count": 23,
   "metadata": {},
   "outputs": [],
   "source": [
    "def extract_presentation_from_all_pdfs(directory):\n",
    "    presentation_texts = {}\n",
    "    qna_texts = {}\n",
    "\n",
    "    # Define a regex pattern to match years from 2005 to 2016\n",
    "    year_pattern = re.compile(r'200[5-9]|201[0-7]')\n",
    "    \n",
    "    # Go through all folders and files in the directory\n",
    "    for root, _, files in os.walk(directory):\n",
    "        for filename in files:\n",
    "            if filename.endswith('.pdf') and year_pattern.search(filename):\n",
    "                pdf_path = os.path.join(root, filename)\n",
    "                presentation_text = extract_presentation_text(pdf_path)\n",
    "                qna_text = extract_qna_text(pdf_path)\n",
    "\n",
    "                presentation_texts[filename] = presentation_text\n",
    "                qna_texts[filename] = qna_text\n",
    "    return presentation_texts, qna_texts"
   ]
  },
  {
   "cell_type": "code",
   "execution_count": 9,
   "metadata": {},
   "outputs": [],
   "source": [
    "# Path to the directory containing PDF files\n",
    "pdf_directory = '/Users/constantinernstberger/Desktop/default/transcripts/A'\n",
    "# Extract presentation text from all PDFs\n",
    "all_presentation_texts, all_qna_texts = extract_presentation_from_all_pdfs(pdf_directory)\n",
    "# create a dataframe with the extracted texts\n",
    "df_A = pd.DataFrame(all_presentation_texts.items(), columns=['filename', 'transcript'])\n",
    "qna_A = pd.DataFrame(all_qna_texts.items(), columns=['filename', 'transcript'])"
   ]
  },
  {
   "cell_type": "code",
   "execution_count": 10,
   "metadata": {},
   "outputs": [],
   "source": [
    "# Path to the directory containing PDF files\n",
    "pdf_directory = '/Users/constantinernstberger/Desktop/default/transcripts/B'\n",
    "# Extract presentation text from all PDFs\n",
    "all_presentation_texts, all_qna_texts = extract_presentation_from_all_pdfs(pdf_directory)\n",
    "# create a dataframe with the extracted texts\n",
    "df_B = pd.DataFrame(all_presentation_texts.items(), columns=['filename', 'transcript'])\n",
    "qna_B = pd.DataFrame(all_qna_texts.items(), columns=['filename', 'transcript'])"
   ]
  },
  {
   "cell_type": "code",
   "execution_count": 11,
   "metadata": {},
   "outputs": [],
   "source": [
    "# Path to the directory containing PDF files\n",
    "pdf_directory = '/Users/constantinernstberger/Desktop/default/transcripts/C'\n",
    "# Extract presentation text from all PDFs\n",
    "all_presentation_texts, all_qna_texts = extract_presentation_from_all_pdfs(pdf_directory)\n",
    "# create a dataframe with the extracted texts\n",
    "df_C = pd.DataFrame(all_presentation_texts.items(), columns=['filename', 'transcript'])\n",
    "qna_C = pd.DataFrame(all_qna_texts.items(), columns=['filename', 'transcript'])"
   ]
  },
  {
   "cell_type": "code",
   "execution_count": 12,
   "metadata": {},
   "outputs": [],
   "source": [
    "# Path to the directory containing PDF files\n",
    "pdf_directory = '/Users/constantinernstberger/Desktop/default/transcripts/DE'\n",
    "# Extract presentation text from all PDFs\n",
    "all_presentation_texts, all_qna_texts = extract_presentation_from_all_pdfs(pdf_directory)\n",
    "# create a dataframe with the extracted texts\n",
    "df_DE = pd.DataFrame(all_presentation_texts.items(), columns=['filename', 'transcript'])\n",
    "qna_DE = pd.DataFrame(all_qna_texts.items(), columns=['filename', 'transcript'])"
   ]
  },
  {
   "cell_type": "code",
   "execution_count": 13,
   "metadata": {},
   "outputs": [],
   "source": [
    "# Path to the directory containing PDF files\n",
    "pdf_directory = '/Users/constantinernstberger/Desktop/default/transcripts/FG'\n",
    "# Extract presentation text from all PDFs\n",
    "all_presentation_texts, all_qna_texts = extract_presentation_from_all_pdfs(pdf_directory)\n",
    "# create a dataframe with the extracted texts\n",
    "df_FG = pd.DataFrame(all_presentation_texts.items(), columns=['filename', 'transcript'])\n",
    "qna_FG = pd.DataFrame(all_qna_texts.items(), columns=['filename', 'transcript'])"
   ]
  },
  {
   "cell_type": "code",
   "execution_count": 14,
   "metadata": {},
   "outputs": [],
   "source": [
    "# Path to the directory containing PDF files\n",
    "pdf_directory = '/Users/constantinernstberger/Desktop/default/transcripts/HIJ'\n",
    "# Extract presentation text from all PDFs\n",
    "all_presentation_texts, all_qna_texts = extract_presentation_from_all_pdfs(pdf_directory)\n",
    "# create a dataframe with the extracted texts\n",
    "df_HIJ = pd.DataFrame(all_presentation_texts.items(), columns=['filename', 'transcript'])\n",
    "qna_HIJ = pd.DataFrame(all_qna_texts.items(), columns=['filename', 'transcript'])"
   ]
  },
  {
   "cell_type": "code",
   "execution_count": 15,
   "metadata": {},
   "outputs": [],
   "source": [
    "# Path to the directory containing PDF files\n",
    "pdf_directory = '/Users/constantinernstberger/Desktop/default/transcripts/KLM'\n",
    "# Extract presentation text from all PDFs\n",
    "all_presentation_texts, all_qna_texts = extract_presentation_from_all_pdfs(pdf_directory)\n",
    "# create a dataframe with the extracted texts\n",
    "df_KLM = pd.DataFrame(all_presentation_texts.items(), columns=['filename', 'transcript'])\n",
    "qna_KLM = pd.DataFrame(all_qna_texts.items(), columns=['filename', 'transcript'])"
   ]
  },
  {
   "cell_type": "code",
   "execution_count": 16,
   "metadata": {},
   "outputs": [],
   "source": [
    "# Path to the directory containing PDF files\n",
    "pdf_directory = '/Users/constantinernstberger/Desktop/default/transcripts/NOP'\n",
    "# Extract presentation text from all PDFs\n",
    "all_presentation_texts, all_qna_texts = extract_presentation_from_all_pdfs(pdf_directory)\n",
    "# create a dataframe with the extracted texts\n",
    "df_NOP = pd.DataFrame(all_presentation_texts.items(), columns=['filename', 'transcript'])\n",
    "qna_NOP = pd.DataFrame(all_qna_texts.items(), columns=['filename', 'transcript'])"
   ]
  },
  {
   "cell_type": "code",
   "execution_count": 17,
   "metadata": {},
   "outputs": [],
   "source": [
    "# Path to the directory containing PDF files\n",
    "pdf_directory = '/Users/constantinernstberger/Desktop/default/transcripts/QRS'\n",
    "# Extract presentation text from all PDFs\n",
    "all_presentation_texts, all_qna_texts = extract_presentation_from_all_pdfs(pdf_directory)\n",
    "# create a dataframe with the extracted texts\n",
    "df_QRS = pd.DataFrame(all_presentation_texts.items(), columns=['filename', 'transcript'])\n",
    "qna_QRS = pd.DataFrame(all_qna_texts.items(), columns=['filename', 'transcript'])"
   ]
  },
  {
   "cell_type": "code",
   "execution_count": 18,
   "metadata": {},
   "outputs": [],
   "source": [
    "# Path to the directory containing PDF files\n",
    "pdf_directory = '/Users/constantinernstberger/Desktop/default/transcripts/T'\n",
    "# Extract presentation text from all PDFs\n",
    "all_presentation_texts, all_qna_texts = extract_presentation_from_all_pdfs(pdf_directory)\n",
    "# create a dataframe with the extracted texts\n",
    "df_T = pd.DataFrame(all_presentation_texts.items(), columns=['filename', 'transcript'])\n",
    "qna_T = pd.DataFrame(all_qna_texts.items(), columns=['filename', 'transcript'])"
   ]
  },
  {
   "cell_type": "code",
   "execution_count": 19,
   "metadata": {},
   "outputs": [],
   "source": [
    "# Path to the directory containing PDF files\n",
    "pdf_directory = '/Users/constantinernstberger/Desktop/default/transcripts/UVWXYZi'\n",
    "# Extract presentation text from all PDFs\n",
    "all_presentation_texts, all_qna_texts = extract_presentation_from_all_pdfs(pdf_directory)\n",
    "# create a dataframe with the extracted texts\n",
    "df_UVWXYZi = pd.DataFrame(all_presentation_texts.items(), columns=['filename', 'transcript'])\n",
    "qna_UVWXYZi = pd.DataFrame(all_qna_texts.items(), columns=['filename', 'transcript'])"
   ]
  },
  {
   "cell_type": "code",
   "execution_count": 20,
   "metadata": {},
   "outputs": [],
   "source": [
    "df = pd.concat([df_A, df_B, df_C, df_DE, df_FG, df_HIJ, df_KLM, df_NOP, df_QRS, df_T, df_UVWXYZi], ignore_index=True)"
   ]
  },
  {
   "cell_type": "code",
   "execution_count": null,
   "metadata": {},
   "outputs": [],
   "source": [
    "qna = pd.concat([qna_A, qna_B, qna_C, qna_DE, qna_FG, qna_HIJ, qna_KLM, qna_NOP, qna_QRS, qna_T, qna_UVWXYZi], ignore_index=True)"
   ]
  },
  {
   "cell_type": "code",
   "execution_count": 6,
   "metadata": {},
   "outputs": [],
   "source": [
    "# if 'transcript' is empty, remove the row\n",
    "df = df[df['transcript'].notna()]\n",
    "df = df[df['transcript'] != '']\n",
    "\n",
    "qna = qna[qna['transcript'].notna()]\n",
    "qna = qna[qna['transcript'] != '']"
   ]
  },
  {
   "cell_type": "code",
   "execution_count": 7,
   "metadata": {},
   "outputs": [],
   "source": [
    "# Function to extract details from filename\n",
    "def extract_details(filename):\n",
    "    pattern = r\"^(.*?),\\s((?:Q\\d|H\\d)?\\s?\\d{4})\\sEarnings Call(?:,\\s([a-zA-Z]{3}[ -]\\d{1,2}[,-]?\\s?\\d{4}))?\\.pdf$\"\n",
    "    match = re.match(pattern, filename)\n",
    "    \n",
    "    if match:\n",
    "        company = match.group(1)\n",
    "        period_year = match.group(2).strip() if match.group(2) else \"\"\n",
    "        date = match.group(3).strip() if match.group(3) else \"\"\n",
    "        period, year = \"\", \"\"\n",
    "        if period_year:\n",
    "            parts = period_year.split()\n",
    "            if len(parts) == 2:\n",
    "                period, year = parts\n",
    "            else:\n",
    "                year = parts[0]\n",
    "        return pd.Series([company, period, year, date])\n",
    "    return pd.Series([None, None, None, None])\n",
    "\n",
    "# Apply function to DataFrame\n",
    "df[['Company', 'Quarter', 'Year', 'Date']] = df['filename'].apply(extract_details)\n",
    "qna[['Company', 'Quarter', 'Year', 'Date']] = qna['filename'].apply(extract_details)"
   ]
  },
  {
   "cell_type": "code",
   "execution_count": 8,
   "metadata": {},
   "outputs": [],
   "source": [
    "df.to_csv('transcripts/transcripts.csv', index=False, sep='|')\n",
    "qna.to_csv('transcripts/QnA.csv', index=False, sep='|')"
   ]
  }
 ],
 "metadata": {
  "kernelspec": {
   "display_name": "aiss",
   "language": "python",
   "name": "aiss"
  },
  "language_info": {
   "codemirror_mode": {
    "name": "ipython",
    "version": 3
   },
   "file_extension": ".py",
   "mimetype": "text/x-python",
   "name": "python",
   "nbconvert_exporter": "python",
   "pygments_lexer": "ipython3",
   "version": "3.8.12"
  }
 },
 "nbformat": 4,
 "nbformat_minor": 2
}
